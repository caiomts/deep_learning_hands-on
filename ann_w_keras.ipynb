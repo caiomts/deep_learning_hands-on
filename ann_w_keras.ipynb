{
 "cells": [
  {
   "cell_type": "markdown",
   "id": "cc681797-8c05-43a2-849b-ded655108520",
   "metadata": {},
   "source": [
    "# Intro to Artificial Neural Networks with Keras\n",
    "\n",
    "ANNs are the core of **Deep Learning**\n",
    "\n",
    "### Why this wave of interest in ANN's is unlike to die out like died the 1960s and 1980s\n",
    "* ANN's frequently outperform other ML techniques on very large and complex problems;\n",
    "* The increase in computer power since 1990s and cloud platforms have made training large neural networks accessible;\n",
    "* The training algorithms have been improved since 1990s;\n",
    "* ANNs seem to have entered a virtuous circle of funding and progress, as new products based on ANNs are launched more attention towards them are pulled.\n",
    "\n",
    "## Logical Computations with Neurons\n",
    "\n",
    "A simple model of a artificial neuron has on or more binary inputs and one binary output. The AN activates its output when more than a certain number of its inputs are active.\n",
    "\n",
    "*Assumption: a neuron is activated when at least two inputs are active*\n",
    "\n",
    "### Identity function\n",
    "$C = A$\n",
    "\n",
    "$A \\Rightarrow C$\n",
    "\n",
    "*if* A is activated *then* C is activated as well (since it receives two inputs signal)\n",
    "\n",
    "### AND\n",
    "$C = A \\land B$\n",
    "\n",
    "$A \\rightarrow C \\leftarrow B$\n",
    "\n",
    "Neuron C is activated *if and only if* both A *and* B are activated.\n",
    "\n",
    "### OR\n",
    "$C = A \\lor B$\n",
    "\n",
    "$A \\Rightarrow C \\Leftarrow B$\n",
    "\n",
    "Neuron C gets activated *if at least* neuron A *or* B is activated.\n",
    "\n",
    "### When a input connection can inhibit the neuron's activity\n",
    "$C = A \\land \\neg B$\n",
    "\n",
    "$A \\Rightarrow C \\leftarrow \\neg B$\n",
    "\n",
    "Neuron C is activated *only if* A is activated *and* B is deactivated.\n",
    "\n",
    "## The Perceptron\n",
    "One of the simplest ANN architectures and it is based on a slightly different artificial neuron called *threshold logic unit* (TLU) or *linear threshold unit* (LTU). The inputs and outputs are numbers (instead of binary) and each input is associated with a weight. The TLU computes a weighted sum of its inputs\n",
    "$$z = w_1x_1+w_2x_2+\\cdots+w_nx_n = \\mathbf{X}^{\\top}\\mathbf{W}$$\n",
    "then applies a step function to that sum and outputs the result\n",
    "$$h_{\\mathbf{W}}(\\mathbf{X}) = step(z)$$\n",
    "\n",
    "Most common step function used in Perceptrons\n",
    "\n",
    "$$ Heaviside (z) =\n",
    "  \\begin{cases}\n",
    "    0       & \\quad \\text{if } z < t\\\\\n",
    "    1  & \\quad \\text{if } z \\geq t\n",
    "  \\end{cases}\n",
    "$$\n",
    "\n",
    "\n",
    "$$\n",
    "sgn(z)=\n",
    "\\begin{cases}\n",
    "-1 & \\quad \\text{if} z < t\\\\\n",
    "0 & \\quad \\text{if} z = t\\\\\n",
    "+1 &\\quad \\text{if} z> t\n",
    "\\end{cases}\n",
    "$$\n",
    "\n",
    "\n",
    "$$\n",
    "\\text{t: threshold}\n",
    "$$\n",
    "\n",
    "A single TLU would be used for simple linear classification like Logistic Regression or SVM classifier. Training a TLU in this case means finding the right values for $\\mathbf{W}$\n",
    "\n",
    "### Composition\n",
    "\n",
    "A **Perceptron** is composed of a single layer of TLUs with each TLU connected to all inputs (when all neurons in a layer are connected to every single in the previous layer, the layer is called a *fully connected layer* or *dense layer*)\n",
    "\n",
    "The inputs of the Perceptron are fed to special passthrough neurons called input neurons: they output whatever input they are fed. In addition, an extra bias feature is generelly added ($x_0=1$), it's represented using a neuron called *bias neuron*, which outputs 1 all the time.\n",
    "\n",
    "$$h_{\\mathbf{W, b}}=\\phi(\\mathbf{XW}+b)$$\n",
    "Where:  \n",
    "$\\mathbf{X}$: matrix($m\\times n$) of input features.  \n",
    "$\\mathbf{W}$: matrix($n\\times j$) of connection weights one column ($j$) per artificial neuron in the layer.  \n",
    "$\\mathbf{b}$: bias terms vector ($j$) contains all the connection weights between the bias neuron and the artificial neurons. It has one bias term per artificial neuron.$\n",
    "\n",
    "The function $\\phi$ is called activation function\n",
    "\n",
    "### How is a Perceptron trained?\n",
    "Hebb's rule: The connection weight between two neurons tends to increase when they fire simultaneously\n",
    "\n",
    "A variant of the rule takes into account the error made by the network when making a prediction. **The Perceptron learning rule reinforces connections that help reduce the error**.\n",
    "\n",
    "$$W_{i, j}^{\\text{next step}}=W_{i, j}+\\eta(y_j-\\hat{y}_j)x_i$$\n",
    "\n",
    "Where:  \n",
    "$w_{i, j}$ is the connection weight between the $i^{th}$ input neuron and the $j^{th}$ output neuron. \n",
    "$x_i$ is the $i^{th}$ input value of the current training instance.  \n",
    "$\\hat{y}_j$ is the output of the $j^{th}$ output neuron for the current training instance.  \n",
    "$y_j$ is the target output of the $j^{th}$ output neuron for the current training instance.  \n",
    "$\\eta$ is the learning rate.  \n",
    "\n",
    "The decision boundary of each output neuron is linear, so Perceptron are incapable of learning complex patterns. However, if the training instances are linearly separables the algorithm would converge to a solution (*Perceptron convergence theorem*)\n"
   ]
  },
  {
   "cell_type": "code",
   "execution_count": 1,
   "id": "989d20a8-1ec2-4078-abed-eb34e5c444e3",
   "metadata": {},
   "outputs": [],
   "source": [
    "# Imports\n",
    "# To plot pretty figures\n",
    "%matplotlib inline\n",
    "import matplotlib as mpl\n",
    "import matplotlib.pyplot as plt\n",
    "mpl.rc('axes', labelsize=14)\n",
    "mpl.rc('xtick', labelsize=12)\n",
    "mpl.rc('ytick', labelsize=12)\n",
    "\n",
    "import numpy as np\n",
    "import os"
   ]
  },
  {
   "cell_type": "code",
   "execution_count": 2,
   "id": "8c59467b-388a-4fe6-9063-831d937fe5a7",
   "metadata": {},
   "outputs": [],
   "source": [
    "from sklearn.datasets import load_iris\n",
    "from sklearn.linear_model import Perceptron"
   ]
  },
  {
   "cell_type": "code",
   "execution_count": 3,
   "id": "9fb27159-74d0-4ae8-8542-0806bf2a37d8",
   "metadata": {},
   "outputs": [],
   "source": [
    "iris = load_iris()\n",
    "X = iris.data[:, (2, 3)] # petal length and petal width\n",
    "y = (iris.target == 0).astype('int')\n",
    "\n",
    "per_clf = Perceptron()\n",
    "per_clf.fit(X, y)\n",
    "\n",
    "y_pred = per_clf.predict([[2, 0.5]])"
   ]
  },
  {
   "cell_type": "markdown",
   "id": "1e850021-26d3-4f53-b716-c4c994e4a7c8",
   "metadata": {},
   "source": [
    "`Perceptron` in scikit-learn is equivalent to using an `SGDClassifier` with the fallowing hyperparameters:  \n",
    "`loss='perceptron'`  \n",
    "`learning_rate='constant'`  \n",
    "`eta0='1'`  \n",
    "`penalty=None`  \n",
    "\n",
    "*Contrary to Logistic Regression classifier, Perceptrons do not output a class probability, rather they make predictions based on hard threshold. This is one reason to **prefer** Logistic Regression over Perceptrons*\n",
    "\n",
    "**Perceptron are incabable of solving some trivial problems like *Exclusive OR (XOR)* classification problem. However some of the limitations of perceptrons can be solved by stacking multiple Perceptrons (called Multilayer Perceptron (MLP)).\n",
    "\n",
    "## The Multilayer Perceptron and Backpropagation\n",
    "An MLP is composed of one input layer, one or more layers of TLUs (hidden layers) plus a final TLUs' layer called the output layer.\n",
    "\n",
    "The layers close the input are called *lower layers* and those close to the output *upper layers*. Every layer except the output one includes a bias neuron and is fully connected to the next layer.\n",
    "\n",
    "**Note**: The signal flows only in one direction (from the inputs to outputs), this architecture is an example of *feedforward neural network (FNN)*.\n",
    "\n",
    "**The backpropagation** training algorithm in short is a Gradient Descent using an efficient technique for computing the gradients automatically. In just two pass through the (one forward and one backward), the backpropagation algorithm is able to compute the gradient of the network's error with regard to every single model parameter. In other words, it can find out how each connection weight and each bias term should be tweaked in order to reduce the error. Once it has there gradients it just performs a regular gradient descent step, and the whole process is repeated until the network converge to the solution.\n",
    "\n",
    "**Note**: Automatically computing gradients is called *automatic differentiation*, or *autodiff*. There are various techniques. the one used by backpropagation is called *reverse-mode autodiff*\n",
    "\n",
    "### The algorithm\n",
    "* handles one mini-batch at a time. It goes through the training set multiple times (**Epochs**).\n",
    "* The weights must be randomly initiated.\n",
    "* The algorithm computes the output of all neurons in each layer until the last layer (**forward pass**) and all intermediates results are preserved.\n",
    "* The algorithm computes the network's output error (using a loss function).\n",
    "* Compute how much each output connection contributed to the error (chain rule) and how much of these error contributions come from each connection in the layer below and so on until reaches the input layer. This measures the error gradient across all connection weights in the network by propagating the error backward (**backward pass**).\n",
    "* Finally the algorithm performs a Gradient Descent step to tweak all connection weights in the network using error gradient computed.\n",
    "\n",
    "**Gradiant Descent needs a well-defined non-zero derivative function to make progress at every step. Initially  this function was the sigmoid function**\n",
    "$$\\sigma(z)=\\frac{1}{1+e^{-z}}$$\n",
    "**Other choices:**\n",
    "$$tanh(z)=2\\sigma(2z)-1$$\n",
    "Unlike the sigmoid its output range from $-1$ to $1$ (instead of $0$ to $1$), and the range tends to make each layer's output centered around $0$ at the beginning of training speeding up convergence.\n",
    "$$ReLU(z)=max(0,z)$$\n",
    "Not differentiable at $z=0$ and the derivative is $0$ for $z<0$, but in practice it works well and is fast to compute (has become the default).\n",
    "\n",
    "**A large enough DNN with nonlinear activations can theoretically approximate any continuous function**\n",
    "\n",
    "## Regression MLPs\n",
    "\n",
    "When building an MLP for regression, one don't want use any activation function for the output neurons and they can output any value. To Guarantee positive outputs use *ReLU* activation function or *softplus* ($log(1+exp(z))$). \n",
    "\n",
    "**TIP:** The Huber loss is quadratic when the error is smaller than a threshold $\\delta$ (tipically 1) but linear when larger than $\\delta$. \n",
    "\n",
    "### Typical regression MLP architecture\n",
    "\n",
    "|**Hyperparameter**|**Typical value**|\n",
    "|-|-|\n",
    "|input neurons|One per feature|\n",
    "|hidden layers| Typically 1 to 5|\n",
    "|neurons per hidden layer|Typically 10 to 100|\n",
    "|output neurons|1 per prediction dimension|\n",
    "|Hidden activation|ReLU or SELU|\n",
    "|Output Activation|None, Or ReLU/softplus(if positive) or logistic/tanh (if bounded)|\n",
    "|loss function| MSE or MAE/Huber|\n",
    "\n",
    "## Classification MLPs\n",
    "* For binary classification problem: Single output neuron using the logistic activation function: the output will be a number between 0 and 1 (probability estimation of the positive class).  \n",
    "* For multilabel binary classification: One neuron per positive class.  \n",
    "* For multiclass classification: One neuron per class and a softmax activation function.\n",
    "\n",
    "Regarding the loss function, cross-entropy (log loss) is usually good. as the objective is to predict probability distributions.\n",
    "\n",
    "### Typical classification MLP architecture\n",
    "\n",
    "|**Hyperparameter**|**Binary**|**Multilabel Binary**|**Multiclass**|\n",
    "|-|-|-|-|\n",
    "|input neurons and hidden layers|Same as regression|Same as regression|Same as regression|\n",
    "|output neurons|1|1 per label|1 per class|\n",
    "|Output Activation|logistic|logistic|softmax|\n",
    "|loss function|Cross entropy|Cross entropy|Cross entropy|\n",
    "\n",
    "## Implementing MLPs with Keras\n",
    "\n",
    "Docs: [Keras](https://keras.io/)\n",
    "\n"
   ]
  },
  {
   "cell_type": "code",
   "execution_count": 3,
   "id": "1796e3f4-fe2e-401e-b529-b59913b75cba",
   "metadata": {},
   "outputs": [
    {
     "name": "stderr",
     "output_type": "stream",
     "text": [
      "2021-11-02 07:56:42.840463: W tensorflow/stream_executor/platform/default/dso_loader.cc:64] Could not load dynamic library 'libcudart.so.11.0'; dlerror: libcudart.so.11.0: cannot open shared object file: No such file or directory\n",
      "2021-11-02 07:56:42.840493: I tensorflow/stream_executor/cuda/cudart_stub.cc:29] Ignore above cudart dlerror if you do not have a GPU set up on your machine.\n"
     ]
    }
   ],
   "source": [
    "import tensorflow as tf\n",
    "from tensorflow import keras"
   ]
  },
  {
   "cell_type": "code",
   "execution_count": 4,
   "id": "8245e4d4-21c0-44fc-8d28-8e40d63b7de5",
   "metadata": {},
   "outputs": [
    {
     "data": {
      "text/plain": [
       "'2.6.0'"
      ]
     },
     "execution_count": 4,
     "metadata": {},
     "output_type": "execute_result"
    }
   ],
   "source": [
    "tf.__version__"
   ]
  },
  {
   "cell_type": "code",
   "execution_count": 5,
   "id": "fc17b605-a328-4e5d-8943-55f19b15dcb7",
   "metadata": {},
   "outputs": [
    {
     "data": {
      "text/plain": [
       "'2.6.0'"
      ]
     },
     "execution_count": 5,
     "metadata": {},
     "output_type": "execute_result"
    }
   ],
   "source": [
    "keras.__version__"
   ]
  },
  {
   "cell_type": "markdown",
   "id": "77f88a15-3202-4562-a702-644349101095",
   "metadata": {},
   "source": [
    "### Building an Image Classifier Using the sequencial API\n"
   ]
  },
  {
   "cell_type": "code",
   "execution_count": 6,
   "id": "5a43c7e1-66fc-485a-aa59-2663a0826454",
   "metadata": {},
   "outputs": [],
   "source": [
    "fashion_mnist = keras.datasets.fashion_mnist\n",
    "\n",
    "(X_train_full, y_train_full), (X_test, y_test) = fashion_mnist.load_data()"
   ]
  },
  {
   "cell_type": "code",
   "execution_count": 11,
   "id": "f280df7e-f7ab-4c5f-b1a4-b2b0b580f47e",
   "metadata": {},
   "outputs": [
    {
     "data": {
      "text/plain": [
       "(60000, 28, 28)"
      ]
     },
     "execution_count": 11,
     "metadata": {},
     "output_type": "execute_result"
    }
   ],
   "source": [
    "X_train_full.shape"
   ]
  },
  {
   "cell_type": "code",
   "execution_count": 12,
   "id": "5ca5ac58-a511-447e-8068-ced25ffbe386",
   "metadata": {},
   "outputs": [
    {
     "data": {
      "text/plain": [
       "dtype('uint8')"
      ]
     },
     "execution_count": 12,
     "metadata": {},
     "output_type": "execute_result"
    }
   ],
   "source": [
    "X_train_full.dtype"
   ]
  },
  {
   "cell_type": "code",
   "execution_count": 13,
   "id": "24def1fc-c08a-42ba-951e-2632d17a875e",
   "metadata": {},
   "outputs": [],
   "source": [
    "# Create validation set and scaling the input features\n",
    "\n",
    "X_valid, X_train = X_train_full[:5000] / 255.0, X_train_full[5000:] / 255.0\n",
    "y_valid, y_train = y_train_full[:5000], y_train_full[5000:]\n",
    "X_test = X_test / 255.0\n",
    "\n",
    "# Class names\n",
    "class_names = ['T-shirt/top', 'Trouser', 'pullover', 'dress',\n",
    "              'coat', 'sandall', 'shirt', 'sneaker', 'bag', 'ankle boot']"
   ]
  },
  {
   "cell_type": "code",
   "execution_count": 11,
   "id": "b99740ea-af05-4832-a18c-3fe5aea1d5fa",
   "metadata": {},
   "outputs": [
    {
     "data": {
      "text/plain": [
       "'coat'"
      ]
     },
     "execution_count": 11,
     "metadata": {},
     "output_type": "execute_result"
    }
   ],
   "source": [
    "class_names[y_train[0]]"
   ]
  },
  {
   "cell_type": "code",
   "execution_count": 12,
   "id": "7cd85aa2-827b-4583-8b2c-61375d63e36b",
   "metadata": {},
   "outputs": [
    {
     "name": "stderr",
     "output_type": "stream",
     "text": [
      "2021-11-01 07:44:39.348539: W tensorflow/stream_executor/platform/default/dso_loader.cc:64] Could not load dynamic library 'libcuda.so.1'; dlerror: libcuda.so.1: cannot open shared object file: No such file or directory\n",
      "2021-11-01 07:44:39.348570: W tensorflow/stream_executor/cuda/cuda_driver.cc:269] failed call to cuInit: UNKNOWN ERROR (303)\n",
      "2021-11-01 07:44:39.348584: I tensorflow/stream_executor/cuda/cuda_diagnostics.cc:156] kernel driver does not appear to be running on this host (pop-os): /proc/driver/nvidia/version does not exist\n",
      "2021-11-01 07:44:39.348997: I tensorflow/core/platform/cpu_feature_guard.cc:142] This TensorFlow binary is optimized with oneAPI Deep Neural Network Library (oneDNN) to use the following CPU instructions in performance-critical operations:  AVX2 FMA\n",
      "To enable them in other operations, rebuild TensorFlow with the appropriate compiler flags.\n"
     ]
    }
   ],
   "source": [
    "# Create the model\n",
    "model = keras.models.Sequential()    # Simplest keras model for neural nets.\n",
    "                                     # Composed of a single stack of layers connected sequentially.\n",
    "model.add(keras.layers.Flatten(input_shape=[28, 28]))    # First layer. `flatten` to convert each\n",
    "                                                         # image into 1D array. Compute X.reshape(-1, 28*28)\n",
    "model.add(keras.layers.Dense(300, activation='relu'))    # `Dense` hidden layer with 300 neurons with ReLU\n",
    "                                                         # as activation function. Each one manages its own\n",
    "                                                         # weight matrix and a vector of bias terms (one per neuron)\n",
    "model.add(keras.layers.Dense(100, activation='relu'))\n",
    "model.add(keras.layers.Dense(10, activation='softmax'))    # a `Dense` output layer with 10 neurons (one per class)\n",
    "                                                           # using softmax activation because the classes are exclusive\n",
    "    \n"
   ]
  },
  {
   "cell_type": "code",
   "execution_count": 13,
   "id": "e7666f4a-a15b-4b7a-aaf0-29fa7d4fe845",
   "metadata": {},
   "outputs": [],
   "source": [
    "keras.backend.clear_session()\n",
    "np.random.seed(42)\n",
    "tf.random.set_seed(42)"
   ]
  },
  {
   "cell_type": "code",
   "execution_count": 14,
   "id": "36843ac5-2f0a-4daa-aadc-7dff458d5b53",
   "metadata": {},
   "outputs": [],
   "source": [
    "# Can be set as follow as well\n",
    "model = keras.models.Sequential([\n",
    "    keras.layers.Flatten(input_shape=[28, 28]),\n",
    "    keras.layers.Dense(300, activation='relu'),\n",
    "    keras.layers.Dense(100, activation='relu'),\n",
    "    keras.layers.Dense(10, activation='softmax')\n",
    "])"
   ]
  },
  {
   "cell_type": "code",
   "execution_count": 15,
   "id": "9913db6e-a051-4f80-b3ce-8ff9c480a7e7",
   "metadata": {},
   "outputs": [
    {
     "name": "stdout",
     "output_type": "stream",
     "text": [
      "Model: \"sequential\"\n",
      "_________________________________________________________________\n",
      "Layer (type)                 Output Shape              Param #   \n",
      "=================================================================\n",
      "flatten (Flatten)            (None, 784)               0         \n",
      "_________________________________________________________________\n",
      "dense (Dense)                (None, 300)               235500    \n",
      "_________________________________________________________________\n",
      "dense_1 (Dense)              (None, 100)               30100     \n",
      "_________________________________________________________________\n",
      "dense_2 (Dense)              (None, 10)                1010      \n",
      "=================================================================\n",
      "Total params: 266,610\n",
      "Trainable params: 266,610\n",
      "Non-trainable params: 0\n",
      "_________________________________________________________________\n"
     ]
    }
   ],
   "source": [
    "model.summary()"
   ]
  },
  {
   "cell_type": "code",
   "execution_count": 16,
   "id": "28af9f2e-f8ba-45e0-839b-c75c5f49bd0e",
   "metadata": {},
   "outputs": [
    {
     "data": {
      "image/png": "[encoded data removed]",
      "text/plain": [
       "<IPython.core.display.Image object>"
      ]
     },
     "execution_count": 16,
     "metadata": {},
     "output_type": "execute_result"
    }
   ],
   "source": [
    "keras.utils.plot_model(model, show_shapes=True)"
   ]
  },
  {
   "cell_type": "code",
   "execution_count": 17,
   "id": "7edde91b-dd72-4463-bead-c133413475ff",
   "metadata": {},
   "outputs": [
    {
     "data": {
      "text/plain": [
       "[<keras.layers.core.Flatten at 0x7fe58c502c40>,\n",
       " <keras.layers.core.Dense at 0x7fe58f2b7880>,\n",
       " <keras.layers.core.Dense at 0x7fe58f2b7b80>,\n",
       " <keras.layers.core.Dense at 0x7fe6584c74f0>]"
      ]
     },
     "execution_count": 17,
     "metadata": {},
     "output_type": "execute_result"
    }
   ],
   "source": [
    "model.layers"
   ]
  },
  {
   "cell_type": "code",
   "execution_count": 18,
   "id": "6cc21735-f2fd-4a72-a6cf-227571144b0c",
   "metadata": {},
   "outputs": [
    {
     "data": {
      "text/plain": [
       "'dense'"
      ]
     },
     "execution_count": 18,
     "metadata": {},
     "output_type": "execute_result"
    }
   ],
   "source": [
    "model.layers[1].name"
   ]
  },
  {
   "cell_type": "code",
   "execution_count": 19,
   "id": "71dd66f7-79f1-462c-9dab-f4add3aeccd0",
   "metadata": {},
   "outputs": [
    {
     "data": {
      "text/plain": [
       "<keras.layers.core.Dense at 0x7fe58f2b7880>"
      ]
     },
     "execution_count": 19,
     "metadata": {},
     "output_type": "execute_result"
    }
   ],
   "source": [
    "model.get_layer('dense')"
   ]
  },
  {
   "cell_type": "markdown",
   "id": "891ecda1-9b93-40bb-b498-e86a3830ef2f",
   "metadata": {},
   "source": [
    "## Activation Functions\n",
    "(ageron notebook)\n"
   ]
  },
  {
   "cell_type": "code",
   "execution_count": 20,
   "id": "8686dad1-09cf-412a-9cf2-63afa03e449f",
   "metadata": {},
   "outputs": [],
   "source": [
    "def sigmoid(z):\n",
    "    return 1 / (1 + np.exp(-z))\n",
    "\n",
    "def relu(z):\n",
    "    return np.maximum(0, z)\n",
    "\n",
    "def derivative(f, z, eps=0.000001):\n",
    "    return (f(z + eps) - f(z - eps))/(2 * eps)"
   ]
  },
  {
   "cell_type": "code",
   "execution_count": 21,
   "id": "167d833d-ad2d-4e0d-ab45-5b6c61084d26",
   "metadata": {},
   "outputs": [
    {
     "data": {
      "image/png": "[encoded data removed]",
      "text/plain": [
       "<Figure size 792x288 with 2 Axes>"
      ]
     },
     "metadata": {
      "needs_background": "light"
     },
     "output_type": "display_data"
    }
   ],
   "source": [
    "import numpy as np\n",
    "import matplotlib.pyplot as plt\n",
    "\n",
    "z = np.linspace(-5, 5, 200)\n",
    "\n",
    "plt.figure(figsize=(11,4))\n",
    "\n",
    "plt.subplot(121)\n",
    "plt.plot(z, np.sign(z), \"r-\", linewidth=1, label=\"Step\")\n",
    "plt.plot(z, sigmoid(z), \"g--\", linewidth=2, label=\"Sigmoid\")\n",
    "plt.plot(z, np.tanh(z), \"b-\", linewidth=2, label=\"Tanh\")\n",
    "plt.plot(z, relu(z), \"m-.\", linewidth=2, label=\"ReLU\")\n",
    "plt.grid(True)\n",
    "plt.legend(loc=\"center right\", fontsize=14)\n",
    "plt.title(\"Activation functions\", fontsize=14)\n",
    "plt.axis([-5, 5, -1.2, 1.2])\n",
    "\n",
    "plt.subplot(122)\n",
    "plt.plot(z, derivative(np.sign, z), \"r-\", linewidth=1, label=\"Step\")\n",
    "plt.plot(0, 0, \"ro\", markersize=5)\n",
    "plt.plot(0, 0, \"rx\", markersize=10)\n",
    "plt.plot(z, derivative(sigmoid, z), \"g--\", linewidth=2, label=\"Sigmoid\")\n",
    "plt.plot(z, derivative(np.tanh, z), \"b-\", linewidth=2, label=\"Tanh\")\n",
    "plt.plot(z, derivative(relu, z), \"m-.\", linewidth=2, label=\"ReLU\")\n",
    "plt.grid(True)\n",
    "#plt.legend(loc=\"center right\", fontsize=14)\n",
    "plt.title(\"Derivatives\", fontsize=14)\n",
    "plt.axis([-5, 5, -0.2, 1.2])\n",
    "\n",
    "\n",
    "plt.show()\n",
    "\n"
   ]
  },
  {
   "cell_type": "code",
   "execution_count": 22,
   "id": "8ffbe471-45ea-44ae-97ee-d509628ccbd7",
   "metadata": {},
   "outputs": [
    {
     "data": {
      "text/plain": [
       "(784, 300)"
      ]
     },
     "execution_count": 22,
     "metadata": {},
     "output_type": "execute_result"
    }
   ],
   "source": [
    "# Paramets from a layer\n",
    "# Weights\n",
    "model.layers[1].get_weights()[0].shape"
   ]
  },
  {
   "cell_type": "code",
   "execution_count": 23,
   "id": "7f037f3c-ff63-41bd-9a3b-c2675238baad",
   "metadata": {},
   "outputs": [
    {
     "data": {
      "text/plain": [
       "(300,)"
      ]
     },
     "execution_count": 23,
     "metadata": {},
     "output_type": "execute_result"
    }
   ],
   "source": [
    "# Biases\n",
    "model.layers[1].get_weights()[1].shape"
   ]
  },
  {
   "cell_type": "markdown",
   "id": "f9dd9ca0-93bb-4578-bfcc-aba65ca0c254",
   "metadata": {},
   "source": [
    "### Compiling the model\n",
    "Call the `compile()` to specify the loss function and the optimizer to use."
   ]
  },
  {
   "cell_type": "code",
   "execution_count": 24,
   "id": "dbe10605-ae4d-437a-a38e-354ee36a1e53",
   "metadata": {},
   "outputs": [],
   "source": [
    "model.compile(loss='sparse_categorical_crossentropy',\n",
    "             optimizer=keras.optimizers.SGD(learning_rate=0.01),\n",
    "             metrics=['accuracy'])"
   ]
  },
  {
   "cell_type": "markdown",
   "id": "4638de8b-ff91-40a4-b76a-b4e71bdb5745",
   "metadata": {},
   "source": [
    "**TIP** to convert sparse labels (class indices) to one-hot vector labels, use `keras.utils.to_categorical()` function. other way, `np.argmax()` function with `axis=1`"
   ]
  },
  {
   "cell_type": "markdown",
   "id": "1abb9bd1-4237-4252-9189-c576cdc491ca",
   "metadata": {},
   "source": [
    "### Training and evaluating the model"
   ]
  },
  {
   "cell_type": "code",
   "execution_count": 25,
   "id": "3678ba1c-32bd-418e-96e0-73df55106237",
   "metadata": {},
   "outputs": [
    {
     "name": "stderr",
     "output_type": "stream",
     "text": [
      "2021-11-01 07:44:40.385895: I tensorflow/compiler/mlir/mlir_graph_optimization_pass.cc:185] None of the MLIR Optimization Passes are enabled (registered 2)\n"
     ]
    },
    {
     "name": "stdout",
     "output_type": "stream",
     "text": [
      "Epoch 1/30\n",
      "1719/1719 [==============================] - 5s 3ms/step - loss: 0.7237 - accuracy: 0.7644 - val_loss: 0.5207 - val_accuracy: 0.8234\n",
      "Epoch 2/30\n",
      "1719/1719 [==============================] - 4s 2ms/step - loss: 0.4842 - accuracy: 0.8317 - val_loss: 0.4351 - val_accuracy: 0.8530\n",
      "Epoch 3/30\n",
      "1719/1719 [==============================] - 5s 3ms/step - loss: 0.4392 - accuracy: 0.8455 - val_loss: 0.5328 - val_accuracy: 0.7988\n",
      "Epoch 4/30\n",
      "1719/1719 [==============================] - 4s 2ms/step - loss: 0.4125 - accuracy: 0.8565 - val_loss: 0.3917 - val_accuracy: 0.8650\n",
      "Epoch 5/30\n",
      "1719/1719 [==============================] - 4s 2ms/step - loss: 0.3939 - accuracy: 0.8620 - val_loss: 0.3749 - val_accuracy: 0.8692\n",
      "Epoch 6/30\n",
      "1719/1719 [==============================] - 4s 2ms/step - loss: 0.3752 - accuracy: 0.8674 - val_loss: 0.3706 - val_accuracy: 0.8728\n",
      "Epoch 7/30\n",
      "1719/1719 [==============================] - 4s 2ms/step - loss: 0.3633 - accuracy: 0.8712 - val_loss: 0.3617 - val_accuracy: 0.8728\n",
      "Epoch 8/30\n",
      "1719/1719 [==============================] - 4s 2ms/step - loss: 0.3519 - accuracy: 0.8751 - val_loss: 0.3840 - val_accuracy: 0.8626\n",
      "Epoch 9/30\n",
      "1719/1719 [==============================] - 5s 3ms/step - loss: 0.3416 - accuracy: 0.8786 - val_loss: 0.3591 - val_accuracy: 0.8708\n",
      "Epoch 10/30\n",
      "1719/1719 [==============================] - 4s 3ms/step - loss: 0.3322 - accuracy: 0.8819 - val_loss: 0.3434 - val_accuracy: 0.8786\n",
      "Epoch 11/30\n",
      "1719/1719 [==============================] - 4s 3ms/step - loss: 0.3243 - accuracy: 0.8836 - val_loss: 0.3435 - val_accuracy: 0.8778\n",
      "Epoch 12/30\n",
      "1719/1719 [==============================] - 4s 2ms/step - loss: 0.3150 - accuracy: 0.8862 - val_loss: 0.3305 - val_accuracy: 0.8826\n",
      "Epoch 13/30\n",
      "1719/1719 [==============================] - 4s 3ms/step - loss: 0.3083 - accuracy: 0.8890 - val_loss: 0.3264 - val_accuracy: 0.8882\n",
      "Epoch 14/30\n",
      "1719/1719 [==============================] - 4s 3ms/step - loss: 0.3022 - accuracy: 0.8915 - val_loss: 0.3406 - val_accuracy: 0.8778\n",
      "Epoch 15/30\n",
      "1719/1719 [==============================] - 4s 2ms/step - loss: 0.2948 - accuracy: 0.8939 - val_loss: 0.3207 - val_accuracy: 0.8858\n",
      "Epoch 16/30\n",
      "1719/1719 [==============================] - 4s 2ms/step - loss: 0.2891 - accuracy: 0.8971 - val_loss: 0.3095 - val_accuracy: 0.8898\n",
      "Epoch 17/30\n",
      "1719/1719 [==============================] - 4s 3ms/step - loss: 0.2839 - accuracy: 0.8976 - val_loss: 0.3571 - val_accuracy: 0.8726\n",
      "Epoch 18/30\n",
      "1719/1719 [==============================] - 5s 3ms/step - loss: 0.2779 - accuracy: 0.8999 - val_loss: 0.3128 - val_accuracy: 0.8908\n",
      "Epoch 19/30\n",
      "1719/1719 [==============================] - 4s 2ms/step - loss: 0.2729 - accuracy: 0.9022 - val_loss: 0.3136 - val_accuracy: 0.8884\n",
      "Epoch 20/30\n",
      "1719/1719 [==============================] - 4s 2ms/step - loss: 0.2676 - accuracy: 0.9034 - val_loss: 0.3280 - val_accuracy: 0.8818\n",
      "Epoch 21/30\n",
      "1719/1719 [==============================] - 4s 2ms/step - loss: 0.2624 - accuracy: 0.9057 - val_loss: 0.3071 - val_accuracy: 0.8920\n",
      "Epoch 22/30\n",
      "1719/1719 [==============================] - 4s 2ms/step - loss: 0.2579 - accuracy: 0.9073 - val_loss: 0.2978 - val_accuracy: 0.8958\n",
      "Epoch 23/30\n",
      "1719/1719 [==============================] - 4s 2ms/step - loss: 0.2535 - accuracy: 0.9085 - val_loss: 0.2986 - val_accuracy: 0.8928\n",
      "Epoch 24/30\n",
      "1719/1719 [==============================] - 4s 2ms/step - loss: 0.2486 - accuracy: 0.9103 - val_loss: 0.3073 - val_accuracy: 0.8876\n",
      "Epoch 25/30\n",
      "1719/1719 [==============================] - 4s 3ms/step - loss: 0.2445 - accuracy: 0.9122 - val_loss: 0.2988 - val_accuracy: 0.8930\n",
      "Epoch 26/30\n",
      "1719/1719 [==============================] - 4s 3ms/step - loss: 0.2406 - accuracy: 0.9134 - val_loss: 0.3049 - val_accuracy: 0.8904\n",
      "Epoch 27/30\n",
      "1719/1719 [==============================] - 4s 2ms/step - loss: 0.2366 - accuracy: 0.9152 - val_loss: 0.3031 - val_accuracy: 0.8940\n",
      "Epoch 28/30\n",
      "1719/1719 [==============================] - 4s 2ms/step - loss: 0.2329 - accuracy: 0.9166 - val_loss: 0.2986 - val_accuracy: 0.8946\n",
      "Epoch 29/30\n",
      "1719/1719 [==============================] - 4s 3ms/step - loss: 0.2287 - accuracy: 0.9179 - val_loss: 0.3038 - val_accuracy: 0.8920\n",
      "Epoch 30/30\n",
      "1719/1719 [==============================] - 5s 3ms/step - loss: 0.2253 - accuracy: 0.9194 - val_loss: 0.3029 - val_accuracy: 0.8922\n"
     ]
    }
   ],
   "source": [
    "history = model.fit(X_train, y_train, epochs=30,\n",
    "                   validation_data=(X_valid, y_valid))"
   ]
  },
  {
   "cell_type": "markdown",
   "id": "b0b1b57b-ee70-403f-bc2d-5bc833bee5dc",
   "metadata": {},
   "source": [
    "**TIP** instead of using the argument `validation_data` one can use `validation_split` to the ratio of the training set.\n",
    "\n",
    "`class_weight` argument handles unbalanced classes.\n",
    "\n",
    "`sample_weight` argument is usefull when some instances are labeled by experts and others by other source. This can also be used inside `validation_data` as a third item in a tuple.\n",
    "\n",
    "`fit()`returns a `History` object with the following attributes. \n",
    "`.params`, `.epoch`, `.history`"
   ]
  },
  {
   "cell_type": "code",
   "execution_count": 26,
   "id": "562ad28e-ce51-475b-b9ac-e4a3468e4578",
   "metadata": {},
   "outputs": [
    {
     "data": {
      "text/plain": [
       "{'verbose': 1, 'epochs': 30, 'steps': 1719}"
      ]
     },
     "execution_count": 26,
     "metadata": {},
     "output_type": "execute_result"
    }
   ],
   "source": [
    "history.params"
   ]
  },
  {
   "cell_type": "code",
   "execution_count": 27,
   "id": "632e6632-4407-4ba0-9bd4-8954130985e4",
   "metadata": {},
   "outputs": [
    {
     "data": {
      "text/plain": [
       "[0,\n",
       " 1,\n",
       " 2,\n",
       " 3,\n",
       " 4,\n",
       " 5,\n",
       " 6,\n",
       " 7,\n",
       " 8,\n",
       " 9,\n",
       " 10,\n",
       " 11,\n",
       " 12,\n",
       " 13,\n",
       " 14,\n",
       " 15,\n",
       " 16,\n",
       " 17,\n",
       " 18,\n",
       " 19,\n",
       " 20,\n",
       " 21,\n",
       " 22,\n",
       " 23,\n",
       " 24,\n",
       " 25,\n",
       " 26,\n",
       " 27,\n",
       " 28,\n",
       " 29]"
      ]
     },
     "execution_count": 27,
     "metadata": {},
     "output_type": "execute_result"
    }
   ],
   "source": [
    "history.epoch"
   ]
  },
  {
   "cell_type": "code",
   "execution_count": 28,
   "id": "adae464c-48fe-4b7d-8e85-7be302978fda",
   "metadata": {},
   "outputs": [
    {
     "data": {
      "text/plain": [
       "<AxesSubplot:>"
      ]
     },
     "execution_count": 28,
     "metadata": {},
     "output_type": "execute_result"
    },
    {
     "data": {
      "image/png": "[encoded data removed]",
      "text/plain": [
       "<Figure size 432x288 with 1 Axes>"
      ]
     },
     "metadata": {
      "needs_background": "light"
     },
     "output_type": "display_data"
    }
   ],
   "source": [
    "import pandas as pd\n",
    "pd.DataFrame(data=history.history).plot()\n"
   ]
  },
  {
   "cell_type": "markdown",
   "id": "610dc2d5-c6a9-4380-9b5c-ebf112680c2c",
   "metadata": {},
   "source": [
    "An overfiting can be stated after the tenth epoch because the training loss is stedly decreasing but the validation loss is in the stedy state."
   ]
  },
  {
   "cell_type": "markdown",
   "id": "8d3760c0-4d07-4cc8-9451-ba4f858edad4",
   "metadata": {},
   "source": [
    "The first hyperparameter to check out is the learning rate. After trying another hyperparameter return the learning rate.).\n",
    "\n",
    "If the performance is still poor, one can try to change the number of layers, neurons per layers and activation function used in each hidden layer.\n",
    "\n",
    "Batch size can also be tuned in `fit(batch_size=32)`.\n",
    "\n",
    "To evaluate the model `evaluate()` "
   ]
  },
  {
   "cell_type": "code",
   "execution_count": 29,
   "id": "37de6a7c-5818-4112-b36c-906f3d061a6b",
   "metadata": {},
   "outputs": [
    {
     "name": "stdout",
     "output_type": "stream",
     "text": [
      "313/313 [==============================] - 0s 2ms/step - loss: 0.3374 - accuracy: 0.8830\n"
     ]
    },
    {
     "data": {
      "text/plain": [
       "[0.3373766839504242, 0.8830000162124634]"
      ]
     },
     "execution_count": 29,
     "metadata": {},
     "output_type": "execute_result"
    }
   ],
   "source": [
    "model.evaluate(X_test, y_test)"
   ]
  },
  {
   "cell_type": "markdown",
   "id": "831c865d-58ed-42e4-89a2-74887d2f5774",
   "metadata": {},
   "source": [
    "### Making predictions\n"
   ]
  },
  {
   "cell_type": "code",
   "execution_count": 30,
   "id": "a76c5c59-18ca-47f1-a8d9-a300d36fe513",
   "metadata": {},
   "outputs": [
    {
     "data": {
      "text/plain": [
       "array([[0.  , 0.  , 0.  , 0.  , 0.  , 0.01, 0.  , 0.03, 0.  , 0.96],\n",
       "       [0.  , 0.  , 0.99, 0.  , 0.01, 0.  , 0.  , 0.  , 0.  , 0.  ],\n",
       "       [0.  , 1.  , 0.  , 0.  , 0.  , 0.  , 0.  , 0.  , 0.  , 0.  ]],\n",
       "      dtype=float32)"
      ]
     },
     "execution_count": 30,
     "metadata": {},
     "output_type": "execute_result"
    }
   ],
   "source": [
    "model.predict(X_test[:3]).round(2)"
   ]
  },
  {
   "cell_type": "markdown",
   "id": "4db986c1-cec4-4176-990c-85818c86229c",
   "metadata": {},
   "source": [
    "### Regression MLP with Sequential API"
   ]
  },
  {
   "cell_type": "code",
   "execution_count": 31,
   "id": "a9df11ca-dd76-4009-8bbc-3b8de7b25582",
   "metadata": {},
   "outputs": [],
   "source": [
    "from sklearn.datasets import fetch_california_housing\n",
    "from sklearn.model_selection import train_test_split\n",
    "from sklearn.preprocessing import StandardScaler\n",
    "\n",
    "housing = fetch_california_housing()\n",
    "\n",
    "X_train_full, X_test, y_train_full, y_test = train_test_split(\n",
    "housing.data, housing.target)\n",
    "\n",
    "X_train, X_valid, y_train, y_valid = train_test_split(\n",
    "X_train_full, y_train_full)\n",
    "\n",
    "scaler = StandardScaler()\n",
    "\n",
    "X_train = scaler.fit_transform(X_train)\n",
    "X_valid = scaler.transform(X_valid)\n",
    "X_test = scaler.transform(X_test)"
   ]
  },
  {
   "cell_type": "code",
   "execution_count": 32,
   "id": "74eb4ad9-5da0-4eff-a328-5c8261bf1e1f",
   "metadata": {},
   "outputs": [],
   "source": [
    "model = keras.models.Sequential([\n",
    "    keras.layers.Dense(30, activation='relu',\n",
    "                      input_shape=X_train.shape[1:]),    # input must be interable\n",
    "    keras.layers.Dense(1)\n",
    "])"
   ]
  },
  {
   "cell_type": "code",
   "execution_count": 33,
   "id": "11f602e0-aad3-433a-803c-8e9d6d9014d4",
   "metadata": {},
   "outputs": [
    {
     "name": "stdout",
     "output_type": "stream",
     "text": [
      "Epoch 1/20\n",
      "363/363 [==============================] - 1s 1ms/step - loss: 0.7987 - val_loss: 0.6806\n",
      "Epoch 2/20\n",
      "363/363 [==============================] - 0s 1ms/step - loss: 0.5335 - val_loss: 0.5710\n",
      "Epoch 3/20\n",
      "363/363 [==============================] - 0s 1ms/step - loss: 0.6129 - val_loss: 0.4964\n",
      "Epoch 4/20\n",
      "363/363 [==============================] - 0s 1ms/step - loss: 0.4694 - val_loss: 0.4785\n",
      "Epoch 5/20\n",
      "363/363 [==============================] - 0s 1ms/step - loss: 0.4462 - val_loss: 0.4615\n",
      "Epoch 6/20\n",
      "363/363 [==============================] - 0s 1ms/step - loss: 0.4350 - val_loss: 0.4553\n",
      "Epoch 7/20\n",
      "363/363 [==============================] - 0s 1ms/step - loss: 0.4263 - val_loss: 0.4433\n",
      "Epoch 8/20\n",
      "363/363 [==============================] - 0s 1ms/step - loss: 0.4182 - val_loss: 0.4446\n",
      "Epoch 9/20\n",
      "363/363 [==============================] - 0s 1ms/step - loss: 0.4116 - val_loss: 0.4326\n",
      "Epoch 10/20\n",
      "363/363 [==============================] - 0s 1ms/step - loss: 0.4080 - val_loss: 0.4306\n",
      "Epoch 11/20\n",
      "363/363 [==============================] - 0s 1ms/step - loss: 0.4025 - val_loss: 0.4265\n",
      "Epoch 12/20\n",
      "363/363 [==============================] - 0s 1ms/step - loss: 0.3981 - val_loss: 0.4244\n",
      "Epoch 13/20\n",
      "363/363 [==============================] - 0s 1ms/step - loss: 0.3949 - val_loss: 0.4245\n",
      "Epoch 14/20\n",
      "363/363 [==============================] - 0s 1ms/step - loss: 0.3910 - val_loss: 0.4323\n",
      "Epoch 15/20\n",
      "363/363 [==============================] - 0s 1ms/step - loss: 0.3874 - val_loss: 0.4282\n",
      "Epoch 16/20\n",
      "363/363 [==============================] - 0s 1ms/step - loss: 0.3856 - val_loss: 0.4094\n",
      "Epoch 17/20\n",
      "363/363 [==============================] - 0s 1ms/step - loss: 0.3825 - val_loss: 0.4161\n",
      "Epoch 18/20\n",
      "363/363 [==============================] - 0s 1ms/step - loss: 0.3786 - val_loss: 0.4063\n",
      "Epoch 19/20\n",
      "363/363 [==============================] - 0s 1ms/step - loss: 0.3765 - val_loss: 0.4043\n",
      "Epoch 20/20\n",
      "363/363 [==============================] - 0s 1ms/step - loss: 0.3744 - val_loss: 0.4053\n"
     ]
    }
   ],
   "source": [
    "model.compile(loss='mean_squared_error',\n",
    "             optimizer=keras.optimizers.SGD(learning_rate=0.01))\n",
    "\n",
    "history = model.fit(X_train, y_train, epochs=20,\n",
    "                   validation_data=(X_valid, y_valid))"
   ]
  },
  {
   "cell_type": "code",
   "execution_count": 34,
   "id": "1a392eeb-31b3-4614-90fb-d031c46f1a28",
   "metadata": {},
   "outputs": [
    {
     "data": {
      "text/plain": [
       "<AxesSubplot:>"
      ]
     },
     "execution_count": 34,
     "metadata": {},
     "output_type": "execute_result"
    },
    {
     "data": {
      "image/png": "[encoded data removed]",
      "text/plain": [
       "<Figure size 432x288 with 1 Axes>"
      ]
     },
     "metadata": {
      "needs_background": "light"
     },
     "output_type": "display_data"
    }
   ],
   "source": [
    "pd.DataFrame(data=history.history).plot()"
   ]
  },
  {
   "cell_type": "code",
   "execution_count": 35,
   "id": "3cfb130d-91e0-4039-9486-257f38766f3e",
   "metadata": {},
   "outputs": [
    {
     "name": "stdout",
     "output_type": "stream",
     "text": [
      "162/162 [==============================] - 0s 743us/step - loss: 0.3829\n"
     ]
    }
   ],
   "source": [
    "mse_test = model.evaluate(X_test, y_test)\n",
    "X_new = X_test[:3]\n",
    "y_pred = model.predict(X_new)"
   ]
  },
  {
   "cell_type": "markdown",
   "id": "09dfe92c-5a72-4f75-9046-542e8701f487",
   "metadata": {},
   "source": [
    "## Functional API\n",
    "\n",
    "### Wide & Deep Neural Net (Heng-Tze Cheng et al 2016)\n",
    "\n",
    "It connects all or part of the inputs directly to the output layer. This architecture makes it possible for neural networks to learn both deep patterns and simple rules."
   ]
  },
  {
   "cell_type": "code",
   "execution_count": 49,
   "id": "84c90370-9795-42ce-a449-e4ea11e1049d",
   "metadata": {},
   "outputs": [],
   "source": [
    "np.random.seed(42)\n",
    "tf.random.set_seed(42)"
   ]
  },
  {
   "cell_type": "code",
   "execution_count": 50,
   "id": "881da40d-2c0e-454a-90e4-3ab552f8a191",
   "metadata": {},
   "outputs": [],
   "source": [
    "input_ = keras.layers.Input(shape=X_train.shape[1:])\n",
    "hidden_1 = keras.layers.Dense(30, activation='relu')(input_)\n",
    "hidden_2 = keras.layers.Dense(30, activation='relu')(hidden_1)\n",
    "concat = keras.layers.Concatenate()([input_, hidden_2])    # Layer with hidden and inputs\n",
    "output = keras.layers.Dense(1)(concat)\n",
    "model = keras.Model(inputs=[input_], outputs=[output])"
   ]
  },
  {
   "cell_type": "code",
   "execution_count": 51,
   "id": "d37e3e60-dbf0-4aee-aeb6-903a199c9815",
   "metadata": {},
   "outputs": [
    {
     "name": "stdout",
     "output_type": "stream",
     "text": [
      "Model: \"model_1\"\n",
      "__________________________________________________________________________________________________\n",
      "Layer (type)                    Output Shape         Param #     Connected to                     \n",
      "==================================================================================================\n",
      "input_4 (InputLayer)            [(None, 8)]          0                                            \n",
      "__________________________________________________________________________________________________\n",
      "dense_13 (Dense)                (None, 30)           270         input_4[0][0]                    \n",
      "__________________________________________________________________________________________________\n",
      "dense_14 (Dense)                (None, 30)           930         dense_13[0][0]                   \n",
      "__________________________________________________________________________________________________\n",
      "concatenate_3 (Concatenate)     (None, 38)           0           input_4[0][0]                    \n",
      "                                                                 dense_14[0][0]                   \n",
      "__________________________________________________________________________________________________\n",
      "dense_15 (Dense)                (None, 1)            39          concatenate_3[0][0]              \n",
      "==================================================================================================\n",
      "Total params: 1,239\n",
      "Trainable params: 1,239\n",
      "Non-trainable params: 0\n",
      "__________________________________________________________________________________________________\n"
     ]
    }
   ],
   "source": [
    "model.summary()"
   ]
  },
  {
   "cell_type": "code",
   "execution_count": 52,
   "id": "1481efb3-16cf-4176-be4e-3a9678c32e90",
   "metadata": {},
   "outputs": [
    {
     "name": "stdout",
     "output_type": "stream",
     "text": [
      "Epoch 1/20\n",
      "363/363 [==============================] - 1s 2ms/step - loss: 1.3035 - val_loss: 0.7101\n",
      "Epoch 2/20\n",
      "363/363 [==============================] - 0s 1ms/step - loss: 0.6619 - val_loss: 0.6456\n",
      "Epoch 3/20\n",
      "363/363 [==============================] - 1s 2ms/step - loss: 0.6156 - val_loss: 0.6133\n",
      "Epoch 4/20\n",
      "363/363 [==============================] - 1s 1ms/step - loss: 0.5873 - val_loss: 0.5928\n",
      "Epoch 5/20\n",
      "363/363 [==============================] - 0s 1ms/step - loss: 0.5664 - val_loss: 0.5708\n",
      "Epoch 6/20\n",
      "363/363 [==============================] - 0s 1ms/step - loss: 0.5470 - val_loss: 0.5567\n",
      "Epoch 7/20\n",
      "363/363 [==============================] - 0s 1ms/step - loss: 0.5324 - val_loss: 0.5430\n",
      "Epoch 8/20\n",
      "363/363 [==============================] - 0s 1ms/step - loss: 0.5193 - val_loss: 0.5318\n",
      "Epoch 9/20\n",
      "363/363 [==============================] - 0s 1ms/step - loss: 0.5088 - val_loss: 0.5219\n",
      "Epoch 10/20\n",
      "363/363 [==============================] - 0s 1ms/step - loss: 0.4994 - val_loss: 0.5134\n",
      "Epoch 11/20\n",
      "363/363 [==============================] - 0s 1ms/step - loss: 0.4909 - val_loss: 0.5059\n",
      "Epoch 12/20\n",
      "363/363 [==============================] - 0s 1ms/step - loss: 0.4837 - val_loss: 0.4984\n",
      "Epoch 13/20\n",
      "363/363 [==============================] - 0s 1ms/step - loss: 0.4771 - val_loss: 0.4913\n",
      "Epoch 14/20\n",
      "363/363 [==============================] - 0s 1ms/step - loss: 0.4713 - val_loss: 0.4864\n",
      "Epoch 15/20\n",
      "363/363 [==============================] - 0s 1ms/step - loss: 0.4658 - val_loss: 0.4823\n",
      "Epoch 16/20\n",
      "363/363 [==============================] - 1s 1ms/step - loss: 0.4612 - val_loss: 0.4769\n",
      "Epoch 17/20\n",
      "363/363 [==============================] - 0s 1ms/step - loss: 0.4566 - val_loss: 0.4740\n",
      "Epoch 18/20\n",
      "363/363 [==============================] - 0s 1ms/step - loss: 0.4529 - val_loss: 0.4699\n",
      "Epoch 19/20\n",
      "363/363 [==============================] - 0s 1ms/step - loss: 0.4493 - val_loss: 0.4653\n",
      "Epoch 20/20\n",
      "363/363 [==============================] - 0s 1ms/step - loss: 0.4457 - val_loss: 0.4636\n",
      "162/162 [==============================] - 0s 911us/step - loss: 0.4568\n",
      "WARNING:tensorflow:6 out of the last 6 calls to <function Model.make_predict_function.<locals>.predict_function at 0x7fe58ce48160> triggered tf.function retracing. Tracing is expensive and the excessive number of tracings could be due to (1) creating @tf.function repeatedly in a loop, (2) passing tensors with different shapes, (3) passing Python objects instead of tensors. For (1), please define your @tf.function outside of the loop. For (2), @tf.function has experimental_relax_shapes=True option that relaxes argument shapes that can avoid unnecessary retracing. For (3), please refer to https://www.tensorflow.org/guide/function#controlling_retracing and https://www.tensorflow.org/api_docs/python/tf/function for  more details.\n"
     ]
    }
   ],
   "source": [
    "model.compile(loss=\"mean_squared_error\", \n",
    "              optimizer=keras.optimizers.SGD(learning_rate=1e-3))\n",
    "history = model.fit(X_train, y_train, epochs=20,\n",
    "                    validation_data=(X_valid, y_valid))\n",
    "mse_test = model.evaluate(X_test, y_test)\n",
    "y_pred = model.predict(X_new)"
   ]
  },
  {
   "cell_type": "markdown",
   "id": "53bf38b2-8bb6-47f0-b6ea-254af6c61723",
   "metadata": {},
   "source": [
    "One can also send some features directly through the wide path (overlapping allowed) and a diferent subset through the deep path.\n",
    "\n"
   ]
  },
  {
   "cell_type": "code",
   "execution_count": 55,
   "id": "b95071f4-305b-4c38-b979-1f895881970f",
   "metadata": {},
   "outputs": [],
   "source": [
    "input_a = keras.layers.Input(shape=[5],\n",
    "                            name='wide')\n",
    "input_b = keras.layers.Input(shape=[6],\n",
    "                            name='deep')\n",
    "\n",
    "hidden_1 = keras.layers.Dense(30, activation='relu')(input_b)\n",
    "hidden_2 = keras.layers.Dense(30, activation='relu')(hidden_1)\n",
    "\n",
    "concat = keras.layers.concatenate([input_a, hidden_2])\n",
    "output = keras.layers.Dense(1,\n",
    "                          name='output')(concat)\n",
    "model = keras.Model(inputs=[input_a, input_b], outputs=[output])"
   ]
  },
  {
   "cell_type": "code",
   "execution_count": 56,
   "id": "def4a714-3e83-46de-bb56-6842e1040916",
   "metadata": {},
   "outputs": [
    {
     "name": "stdout",
     "output_type": "stream",
     "text": [
      "Model: \"model_3\"\n",
      "__________________________________________________________________________________________________\n",
      "Layer (type)                    Output Shape         Param #     Connected to                     \n",
      "==================================================================================================\n",
      "deep (InputLayer)               [(None, 6)]          0                                            \n",
      "__________________________________________________________________________________________________\n",
      "dense_18 (Dense)                (None, 30)           210         deep[0][0]                       \n",
      "__________________________________________________________________________________________________\n",
      "wide (InputLayer)               [(None, 5)]          0                                            \n",
      "__________________________________________________________________________________________________\n",
      "dense_19 (Dense)                (None, 30)           930         dense_18[0][0]                   \n",
      "__________________________________________________________________________________________________\n",
      "concatenate_5 (Concatenate)     (None, 35)           0           wide[0][0]                       \n",
      "                                                                 dense_19[0][0]                   \n",
      "__________________________________________________________________________________________________\n",
      "output (Dense)                  (None, 1)            36          concatenate_5[0][0]              \n",
      "==================================================================================================\n",
      "Total params: 1,176\n",
      "Trainable params: 1,176\n",
      "Non-trainable params: 0\n",
      "__________________________________________________________________________________________________\n"
     ]
    }
   ],
   "source": [
    "model.summary()"
   ]
  },
  {
   "cell_type": "code",
   "execution_count": 57,
   "id": "31a5aa68-1755-4c33-89bd-4bfdb10d6652",
   "metadata": {},
   "outputs": [
    {
     "data": {
      "image/png": "[encoded data removed]",
      "text/plain": [
       "<IPython.core.display.Image object>"
      ]
     },
     "execution_count": 57,
     "metadata": {},
     "output_type": "execute_result"
    }
   ],
   "source": [
    "keras.utils.plot_model(model, show_shapes=True)"
   ]
  },
  {
   "cell_type": "code",
   "execution_count": 60,
   "id": "5e98ccc0-e356-47e9-a133-aaae44785792",
   "metadata": {},
   "outputs": [],
   "source": [
    "model.compile(loss='mse',\n",
    "             optimizer=keras.optimizers.SGD(learning_rate=1e-3))"
   ]
  },
  {
   "cell_type": "code",
   "execution_count": 62,
   "id": "9509a8ee-3c01-461b-ad7e-518777b36ec3",
   "metadata": {},
   "outputs": [],
   "source": [
    "X_train_a, X_train_b = X_train[:, :5], X_train[:, 2:]\n",
    "X_valid_a, X_valid_b = X_valid[:, :5], X_valid[:, 2:]\n",
    "X_test_a, X_test_b = X_test[:, :5], X_test[:, 2:]"
   ]
  },
  {
   "cell_type": "code",
   "execution_count": 63,
   "id": "04f4a98b-fc06-423b-be6f-8d73a7419f31",
   "metadata": {},
   "outputs": [
    {
     "name": "stdout",
     "output_type": "stream",
     "text": [
      "Epoch 1/20\n",
      "363/363 [==============================] - 1s 2ms/step - loss: 2.0577 - val_loss: 0.9607\n",
      "Epoch 2/20\n",
      "363/363 [==============================] - 1s 2ms/step - loss: 0.8278 - val_loss: 0.7137\n",
      "Epoch 3/20\n",
      "363/363 [==============================] - 0s 1ms/step - loss: 0.6939 - val_loss: 0.6480\n",
      "Epoch 4/20\n",
      "363/363 [==============================] - 1s 1ms/step - loss: 0.6424 - val_loss: 0.6162\n",
      "Epoch 5/20\n",
      "363/363 [==============================] - 0s 1ms/step - loss: 0.6105 - val_loss: 0.5917\n",
      "Epoch 6/20\n",
      "363/363 [==============================] - 0s 1ms/step - loss: 0.5868 - val_loss: 0.5753\n",
      "Epoch 7/20\n",
      "363/363 [==============================] - 0s 823us/step - loss: 0.5683 - val_loss: 0.5612\n",
      "Epoch 8/20\n",
      "363/363 [==============================] - 0s 981us/step - loss: 0.5533 - val_loss: 0.5507\n",
      "Epoch 9/20\n",
      "363/363 [==============================] - 0s 1ms/step - loss: 0.5412 - val_loss: 0.5414\n",
      "Epoch 10/20\n",
      "363/363 [==============================] - 0s 1ms/step - loss: 0.5316 - val_loss: 0.5341\n",
      "Epoch 11/20\n",
      "363/363 [==============================] - 0s 1ms/step - loss: 0.5228 - val_loss: 0.5279\n",
      "Epoch 12/20\n",
      "363/363 [==============================] - 1s 1ms/step - loss: 0.5156 - val_loss: 0.5228\n",
      "Epoch 13/20\n",
      "363/363 [==============================] - 1s 1ms/step - loss: 0.5096 - val_loss: 0.5179\n",
      "Epoch 14/20\n",
      "363/363 [==============================] - 1s 2ms/step - loss: 0.5044 - val_loss: 0.5142\n",
      "Epoch 15/20\n",
      "363/363 [==============================] - 1s 1ms/step - loss: 0.4996 - val_loss: 0.5119\n",
      "Epoch 16/20\n",
      "363/363 [==============================] - 0s 1ms/step - loss: 0.4959 - val_loss: 0.5080\n",
      "Epoch 17/20\n",
      "363/363 [==============================] - 0s 1ms/step - loss: 0.4922 - val_loss: 0.5062\n",
      "Epoch 18/20\n",
      "363/363 [==============================] - 0s 1ms/step - loss: 0.4889 - val_loss: 0.5035\n",
      "Epoch 19/20\n",
      "363/363 [==============================] - 0s 1ms/step - loss: 0.4861 - val_loss: 0.5011\n",
      "Epoch 20/20\n",
      "363/363 [==============================] - 0s 1ms/step - loss: 0.4832 - val_loss: 0.4992\n"
     ]
    }
   ],
   "source": [
    "history = model.fit((X_train_a, X_train_b), y_train, epochs=20,\n",
    "                   validation_data=((X_valid_a, X_valid_b), y_valid))"
   ]
  },
  {
   "cell_type": "code",
   "execution_count": 64,
   "id": "920117e2-d552-4efd-b67f-aa62270d7ad1",
   "metadata": {},
   "outputs": [
    {
     "name": "stdout",
     "output_type": "stream",
     "text": [
      "162/162 [==============================] - 0s 984us/step - loss: 0.4903\n"
     ]
    }
   ],
   "source": [
    "mse_test = model.evaluate((X_test_a, X_test_b), y_test)\n",
    "\n",
    "X_new_A, X_new_B = X_test_a[:3], X_test_b[:3]\n",
    "y_pred = model.predict((X_new_A, X_new_B))"
   ]
  },
  {
   "cell_type": "markdown",
   "id": "83ad1116-48fc-41af-b76a-1789376dd109",
   "metadata": {},
   "source": [
    "### There are cases in which one may want multiple outputs\n",
    "\n",
    "**Examples**\n",
    "* Locate and classify the main object in a picture\n",
    "* Multiple independent tasks but based on same data\n",
    "* Regularization technique\n"
   ]
  },
  {
   "cell_type": "code",
   "execution_count": 65,
   "id": "6935dc2b-dab8-4055-bcec-650133053acc",
   "metadata": {},
   "outputs": [],
   "source": [
    "np.random.seed(42)\n",
    "tf.random.set_seed(42)"
   ]
  },
  {
   "cell_type": "code",
   "execution_count": 66,
   "id": "878daf13-82ea-42a2-b6c0-bb1eb439c4dc",
   "metadata": {},
   "outputs": [],
   "source": [
    "input_A = keras.layers.Input(shape=[5], name=\"wide_input\")\n",
    "input_B = keras.layers.Input(shape=[6], name=\"deep_input\")\n",
    "hidden1 = keras.layers.Dense(30, activation=\"relu\")(input_B)\n",
    "hidden2 = keras.layers.Dense(30, activation=\"relu\")(hidden1)\n",
    "concat = keras.layers.concatenate([input_A, hidden2])\n",
    "output = keras.layers.Dense(1, name=\"main_output\")(concat)\n",
    "aux_output = keras.layers.Dense(1, name=\"aux_output\")(hidden2)\n",
    "model = keras.models.Model(inputs=[input_A, input_B],\n",
    "                           outputs=[output, aux_output])"
   ]
  },
  {
   "cell_type": "code",
   "execution_count": 67,
   "id": "2058856d-5d48-41bd-b378-0c93ae12f2ab",
   "metadata": {},
   "outputs": [],
   "source": [
    "# each output needs its own loss function. We can also weighted the losses as we are\n",
    "# interested more in the first one (the second is just regularization)\n",
    "model.compile(loss=[\"mse\", \"mse\"], loss_weights=[0.9, 0.1], \n",
    "              optimizer=keras.optimizers.SGD(learning_rate=1e-3))"
   ]
  },
  {
   "cell_type": "code",
   "execution_count": 68,
   "id": "4b79d37d-fbb0-4888-9bc9-f79112d6e55c",
   "metadata": {},
   "outputs": [
    {
     "name": "stdout",
     "output_type": "stream",
     "text": [
      "Epoch 1/20\n",
      "363/363 [==============================] - 1s 2ms/step - loss: 2.1377 - main_output_loss: 1.9300 - aux_output_loss: 4.0068 - val_loss: 1.0631 - val_main_output_loss: 0.8288 - val_aux_output_loss: 3.1725\n",
      "Epoch 2/20\n",
      "363/363 [==============================] - 1s 2ms/step - loss: 0.9125 - main_output_loss: 0.7249 - aux_output_loss: 2.6008 - val_loss: 0.8148 - val_main_output_loss: 0.6557 - val_aux_output_loss: 2.2465\n",
      "Epoch 3/20\n",
      "363/363 [==============================] - 1s 2ms/step - loss: 0.7656 - main_output_loss: 0.6357 - aux_output_loss: 1.9353 - val_loss: 0.7374 - val_main_output_loss: 0.6142 - val_aux_output_loss: 1.8463\n",
      "Epoch 4/20\n",
      "363/363 [==============================] - 1s 2ms/step - loss: 0.7043 - main_output_loss: 0.5994 - aux_output_loss: 1.6482 - val_loss: 0.6974 - val_main_output_loss: 0.5923 - val_aux_output_loss: 1.6432\n",
      "Epoch 5/20\n",
      "363/363 [==============================] - 1s 1ms/step - loss: 0.6687 - main_output_loss: 0.5769 - aux_output_loss: 1.4948 - val_loss: 0.6679 - val_main_output_loss: 0.5734 - val_aux_output_loss: 1.5184\n",
      "Epoch 6/20\n",
      "363/363 [==============================] - 1s 2ms/step - loss: 0.6423 - main_output_loss: 0.5582 - aux_output_loss: 1.3996 - val_loss: 0.6461 - val_main_output_loss: 0.5585 - val_aux_output_loss: 1.4349\n",
      "Epoch 7/20\n",
      "363/363 [==============================] - 1s 2ms/step - loss: 0.6221 - main_output_loss: 0.5429 - aux_output_loss: 1.3343 - val_loss: 0.6277 - val_main_output_loss: 0.5473 - val_aux_output_loss: 1.3516\n",
      "Epoch 8/20\n",
      "363/363 [==============================] - 1s 2ms/step - loss: 0.6051 - main_output_loss: 0.5304 - aux_output_loss: 1.2780 - val_loss: 0.6127 - val_main_output_loss: 0.5371 - val_aux_output_loss: 1.2929\n",
      "Epoch 9/20\n",
      "363/363 [==============================] - 1s 2ms/step - loss: 0.5916 - main_output_loss: 0.5207 - aux_output_loss: 1.2301 - val_loss: 0.6003 - val_main_output_loss: 0.5287 - val_aux_output_loss: 1.2442\n",
      "Epoch 10/20\n",
      "363/363 [==============================] - 1s 1ms/step - loss: 0.5804 - main_output_loss: 0.5126 - aux_output_loss: 1.1915 - val_loss: 0.5902 - val_main_output_loss: 0.5219 - val_aux_output_loss: 1.2044\n",
      "Epoch 11/20\n",
      "363/363 [==============================] - 1s 2ms/step - loss: 0.5706 - main_output_loss: 0.5053 - aux_output_loss: 1.1584 - val_loss: 0.5816 - val_main_output_loss: 0.5165 - val_aux_output_loss: 1.1674\n",
      "Epoch 12/20\n",
      "363/363 [==============================] - 1s 2ms/step - loss: 0.5624 - main_output_loss: 0.4996 - aux_output_loss: 1.1278 - val_loss: 0.5748 - val_main_output_loss: 0.5128 - val_aux_output_loss: 1.1329\n",
      "Epoch 13/20\n",
      "363/363 [==============================] - 0s 1ms/step - loss: 0.5552 - main_output_loss: 0.4945 - aux_output_loss: 1.1011 - val_loss: 0.5682 - val_main_output_loss: 0.5082 - val_aux_output_loss: 1.1079\n",
      "Epoch 14/20\n",
      "363/363 [==============================] - 0s 1ms/step - loss: 0.5490 - main_output_loss: 0.4902 - aux_output_loss: 1.0784 - val_loss: 0.5618 - val_main_output_loss: 0.5039 - val_aux_output_loss: 1.0834\n",
      "Epoch 15/20\n",
      "363/363 [==============================] - 1s 1ms/step - loss: 0.5430 - main_output_loss: 0.4860 - aux_output_loss: 1.0558 - val_loss: 0.5579 - val_main_output_loss: 0.5019 - val_aux_output_loss: 1.0613\n",
      "Epoch 16/20\n",
      "363/363 [==============================] - 1s 1ms/step - loss: 0.5384 - main_output_loss: 0.4832 - aux_output_loss: 1.0347 - val_loss: 0.5527 - val_main_output_loss: 0.4983 - val_aux_output_loss: 1.0422\n",
      "Epoch 17/20\n",
      "363/363 [==============================] - 1s 1ms/step - loss: 0.5334 - main_output_loss: 0.4798 - aux_output_loss: 1.0162 - val_loss: 0.5493 - val_main_output_loss: 0.4966 - val_aux_output_loss: 1.0235\n",
      "Epoch 18/20\n",
      "363/363 [==============================] - 1s 2ms/step - loss: 0.5294 - main_output_loss: 0.4772 - aux_output_loss: 0.9991 - val_loss: 0.5454 - val_main_output_loss: 0.4942 - val_aux_output_loss: 1.0061\n",
      "Epoch 19/20\n",
      "363/363 [==============================] - 1s 2ms/step - loss: 0.5256 - main_output_loss: 0.4748 - aux_output_loss: 0.9823 - val_loss: 0.5413 - val_main_output_loss: 0.4914 - val_aux_output_loss: 0.9909\n",
      "Epoch 20/20\n",
      "363/363 [==============================] - 1s 1ms/step - loss: 0.5218 - main_output_loss: 0.4724 - aux_output_loss: 0.9672 - val_loss: 0.5388 - val_main_output_loss: 0.4903 - val_aux_output_loss: 0.9755\n"
     ]
    }
   ],
   "source": [
    "history = model.fit((X_train_a, X_train_b), [y_train, y_train],\n",
    "                   epochs=20,\n",
    "                   validation_data=((X_valid_a, X_valid_b), (y_valid, y_valid)))"
   ]
  },
  {
   "cell_type": "code",
   "execution_count": 69,
   "id": "3fe37a30-ef2d-499d-b373-8c82da1e6cbc",
   "metadata": {},
   "outputs": [
    {
     "name": "stdout",
     "output_type": "stream",
     "text": [
      "162/162 [==============================] - 0s 1ms/step - loss: 0.5287 - main_output_loss: 0.4825 - aux_output_loss: 0.9444\n"
     ]
    }
   ],
   "source": [
    "total_loss, main_loss, aux_loss = model.evaluate([X_test_a, X_test_b],\n",
    "                                                [y_test, y_test])"
   ]
  },
  {
   "cell_type": "code",
   "execution_count": 70,
   "id": "344520f2-69dc-40a1-8716-6e7ed795e4e6",
   "metadata": {},
   "outputs": [
    {
     "name": "stdout",
     "output_type": "stream",
     "text": [
      "Model: \"model_4\"\n",
      "__________________________________________________________________________________________________\n",
      "Layer (type)                    Output Shape         Param #     Connected to                     \n",
      "==================================================================================================\n",
      "deep_input (InputLayer)         [(None, 6)]          0                                            \n",
      "__________________________________________________________________________________________________\n",
      "dense_20 (Dense)                (None, 30)           210         deep_input[0][0]                 \n",
      "__________________________________________________________________________________________________\n",
      "wide_input (InputLayer)         [(None, 5)]          0                                            \n",
      "__________________________________________________________________________________________________\n",
      "dense_21 (Dense)                (None, 30)           930         dense_20[0][0]                   \n",
      "__________________________________________________________________________________________________\n",
      "concatenate_6 (Concatenate)     (None, 35)           0           wide_input[0][0]                 \n",
      "                                                                 dense_21[0][0]                   \n",
      "__________________________________________________________________________________________________\n",
      "main_output (Dense)             (None, 1)            36          concatenate_6[0][0]              \n",
      "__________________________________________________________________________________________________\n",
      "aux_output (Dense)              (None, 1)            31          dense_21[0][0]                   \n",
      "==================================================================================================\n",
      "Total params: 1,207\n",
      "Trainable params: 1,207\n",
      "Non-trainable params: 0\n",
      "__________________________________________________________________________________________________\n"
     ]
    }
   ],
   "source": [
    "model.summary()"
   ]
  },
  {
   "cell_type": "code",
   "execution_count": 71,
   "id": "1e065846-9f0a-46ad-a874-bd8bb96738d6",
   "metadata": {},
   "outputs": [
    {
     "data": {
      "image/png": "[encoded data removed]",
      "text/plain": [
       "<IPython.core.display.Image object>"
      ]
     },
     "execution_count": 71,
     "metadata": {},
     "output_type": "execute_result"
    }
   ],
   "source": [
    "keras.utils.plot_model(model, show_shapes=True)"
   ]
  },
  {
   "cell_type": "markdown",
   "id": "1592467e-1b67-4877-afe0-aa67e7d0cd12",
   "metadata": {},
   "source": [
    "## Subclassing API to Build Dynamic Models\n",
    "\n",
    "Until now we've been working on static models, which have a lot of pros, but some models involves loops, varying shapes, conditional branching and dynamic behaviors."
   ]
  },
  {
   "cell_type": "code",
   "execution_count": 72,
   "id": "5361dc5f-d62e-4ec6-9535-41eeea5fe56f",
   "metadata": {},
   "outputs": [],
   "source": [
    "class WideAndDeepModel(keras.Model):\n",
    "    def __init__(self, units=30, activation='relu', **kwargs):\n",
    "        super().__init__(**kwargs)\n",
    "        self.hidden1 = keras.layers.Dense(units, activation=activation)\n",
    "        self.hidden2 = keras.layers.Dense(units, activation=activation)\n",
    "        self.main_output = keras.layers.Dense(1)\n",
    "        self.aux_output = keras.layers.Dense(1)\n",
    "        \n",
    "    def call(self, inputs):\n",
    "        input_a, input_b = inputs\n",
    "        hidden1 = self.hidden1(input_b)\n",
    "        hidden2 = self.hidden2(hidden1)\n",
    "        concat = keras.layers.concatenate([input_a, hidden2])\n",
    "        main_output = self.main_output(concat)\n",
    "        aux_output = self.aux_output(hidden2)\n",
    "        return main_output, aux_output\n",
    "    "
   ]
  },
  {
   "cell_type": "code",
   "execution_count": 74,
   "id": "a2eea705-11d9-442d-9fb3-f43410581380",
   "metadata": {},
   "outputs": [],
   "source": [
    "model = WideAndDeepModel()"
   ]
  },
  {
   "cell_type": "code",
   "execution_count": 76,
   "id": "830473a1-7bfd-4652-9b8f-f992865c79f4",
   "metadata": {},
   "outputs": [],
   "source": [
    "model.compile(loss='mse', loss_weights=[0.9, 0.1],\n",
    "             optimizer=keras.optimizers.SGD(learning_rate=1e-3))"
   ]
  },
  {
   "cell_type": "code",
   "execution_count": 81,
   "id": "91656cae-6e75-4f66-b0fb-27cceb5527eb",
   "metadata": {},
   "outputs": [
    {
     "name": "stdout",
     "output_type": "stream",
     "text": [
      "Epoch 1/20\n",
      "363/363 [==============================] - 1s 2ms/step - loss: 2.2815 - output_1_loss: 2.1649 - output_2_loss: 3.3311 - val_loss: 1.1401 - val_output_1_loss: 1.0046 - val_output_2_loss: 2.3591\n",
      "Epoch 2/20\n",
      "363/363 [==============================] - 1s 2ms/step - loss: 0.9850 - output_1_loss: 0.8598 - output_2_loss: 2.1122 - val_loss: 0.8738 - val_output_1_loss: 0.7657 - val_output_2_loss: 1.8463\n",
      "Epoch 3/20\n",
      "363/363 [==============================] - 1s 2ms/step - loss: 0.8383 - output_1_loss: 0.7366 - output_2_loss: 1.7538 - val_loss: 0.7927 - val_output_1_loss: 0.6998 - val_output_2_loss: 1.6295\n",
      "Epoch 4/20\n",
      "363/363 [==============================] - 1s 1ms/step - loss: 0.7719 - output_1_loss: 0.6814 - output_2_loss: 1.5862 - val_loss: 0.7460 - val_output_1_loss: 0.6628 - val_output_2_loss: 1.4946\n",
      "Epoch 5/20\n",
      "363/363 [==============================] - 1s 1ms/step - loss: 0.7288 - output_1_loss: 0.6464 - output_2_loss: 1.4700 - val_loss: 0.7112 - val_output_1_loss: 0.6337 - val_output_2_loss: 1.4094\n",
      "Epoch 6/20\n",
      "363/363 [==============================] - 1s 1ms/step - loss: 0.6963 - output_1_loss: 0.6190 - output_2_loss: 1.3925 - val_loss: 0.6874 - val_output_1_loss: 0.6138 - val_output_2_loss: 1.3496\n",
      "Epoch 7/20\n",
      "363/363 [==============================] - 1s 2ms/step - loss: 0.6716 - output_1_loss: 0.5980 - output_2_loss: 1.3344 - val_loss: 0.6661 - val_output_1_loss: 0.5959 - val_output_2_loss: 1.2985\n",
      "Epoch 8/20\n",
      "363/363 [==============================] - 1s 2ms/step - loss: 0.6517 - output_1_loss: 0.5813 - output_2_loss: 1.2854 - val_loss: 0.6505 - val_output_1_loss: 0.5831 - val_output_2_loss: 1.2566\n",
      "Epoch 9/20\n",
      "363/363 [==============================] - 1s 1ms/step - loss: 0.6359 - output_1_loss: 0.5686 - output_2_loss: 1.2415 - val_loss: 0.6375 - val_output_1_loss: 0.5724 - val_output_2_loss: 1.2235\n",
      "Epoch 10/20\n",
      "363/363 [==============================] - 1s 1ms/step - loss: 0.6232 - output_1_loss: 0.5582 - output_2_loss: 1.2079 - val_loss: 0.6269 - val_output_1_loss: 0.5640 - val_output_2_loss: 1.1938\n",
      "Epoch 11/20\n",
      "363/363 [==============================] - 1s 2ms/step - loss: 0.6121 - output_1_loss: 0.5494 - output_2_loss: 1.1768 - val_loss: 0.6176 - val_output_1_loss: 0.5566 - val_output_2_loss: 1.1661\n",
      "Epoch 12/20\n",
      "363/363 [==============================] - 1s 2ms/step - loss: 0.6030 - output_1_loss: 0.5424 - output_2_loss: 1.1483 - val_loss: 0.6097 - val_output_1_loss: 0.5506 - val_output_2_loss: 1.1416\n",
      "Epoch 13/20\n",
      "363/363 [==============================] - 1s 2ms/step - loss: 0.5951 - output_1_loss: 0.5364 - output_2_loss: 1.1235 - val_loss: 0.6026 - val_output_1_loss: 0.5451 - val_output_2_loss: 1.1201\n",
      "Epoch 14/20\n",
      "363/363 [==============================] - 1s 2ms/step - loss: 0.5884 - output_1_loss: 0.5313 - output_2_loss: 1.1019 - val_loss: 0.5966 - val_output_1_loss: 0.5408 - val_output_2_loss: 1.0986\n",
      "Epoch 15/20\n",
      "363/363 [==============================] - 1s 2ms/step - loss: 0.5820 - output_1_loss: 0.5265 - output_2_loss: 1.0808 - val_loss: 0.5923 - val_output_1_loss: 0.5382 - val_output_2_loss: 1.0793\n",
      "Epoch 16/20\n",
      "363/363 [==============================] - 1s 1ms/step - loss: 0.5767 - output_1_loss: 0.5229 - output_2_loss: 1.0612 - val_loss: 0.5867 - val_output_1_loss: 0.5339 - val_output_2_loss: 1.0622\n",
      "Epoch 17/20\n",
      "363/363 [==============================] - 0s 1ms/step - loss: 0.5712 - output_1_loss: 0.5188 - output_2_loss: 1.0432 - val_loss: 0.5827 - val_output_1_loss: 0.5313 - val_output_2_loss: 1.0458\n",
      "Epoch 18/20\n",
      "363/363 [==============================] - 1s 1ms/step - loss: 0.5666 - output_1_loss: 0.5154 - output_2_loss: 1.0266 - val_loss: 0.5779 - val_output_1_loss: 0.5278 - val_output_2_loss: 1.0291\n",
      "Epoch 19/20\n",
      "363/363 [==============================] - 1s 2ms/step - loss: 0.5618 - output_1_loss: 0.5121 - output_2_loss: 1.0097 - val_loss: 0.5740 - val_output_1_loss: 0.5250 - val_output_2_loss: 1.0147\n",
      "Epoch 20/20\n",
      "363/363 [==============================] - 1s 2ms/step - loss: 0.5572 - output_1_loss: 0.5086 - output_2_loss: 0.9946 - val_loss: 0.5709 - val_output_1_loss: 0.5232 - val_output_2_loss: 0.9996\n"
     ]
    },
    {
     "data": {
      "text/plain": [
       "<keras.callbacks.History at 0x7fe58c9d2cd0>"
      ]
     },
     "execution_count": 81,
     "metadata": {},
     "output_type": "execute_result"
    }
   ],
   "source": [
    "model.fit([X_train_a, X_train_b], [y_train, y_train], epochs=20,\n",
    "         validation_data=([X_valid_a, X_valid_b], [y_valid, y_valid]))"
   ]
  },
  {
   "cell_type": "code",
   "execution_count": 82,
   "id": "71fe8514-ee89-4984-806c-7eeb33d096c8",
   "metadata": {},
   "outputs": [
    {
     "name": "stdout",
     "output_type": "stream",
     "text": [
      "Model: \"wide_and_deep_model_1\"\n",
      "_________________________________________________________________\n",
      "Layer (type)                 Output Shape              Param #   \n",
      "=================================================================\n",
      "dense_26 (Dense)             multiple                  210       \n",
      "_________________________________________________________________\n",
      "dense_27 (Dense)             multiple                  930       \n",
      "_________________________________________________________________\n",
      "dense_28 (Dense)             multiple                  36        \n",
      "_________________________________________________________________\n",
      "dense_29 (Dense)             multiple                  31        \n",
      "=================================================================\n",
      "Total params: 1,207\n",
      "Trainable params: 1,207\n",
      "Non-trainable params: 0\n",
      "_________________________________________________________________\n"
     ]
    }
   ],
   "source": [
    "model.summary()"
   ]
  },
  {
   "cell_type": "markdown",
   "id": "7aaa46bb-e753-4396-b1f9-97eb673a39e1",
   "metadata": {},
   "source": [
    "## Saving and Restoring a Model\n",
    "\n",
    "### Functional API\n",
    "\n",
    "`model.save('xxx.h5')`\n",
    "\n",
    "Kera use the HDF5 format to save model's architecture, all model parameters and optimizer.\n",
    "\n",
    "`keras.models.load_model('xxxx.h5')`\n",
    "\n",
    "**This works only with Sequential and Functional, but noo with model subclass. It can be used `save_weights()` and `load_weights()` to save and load the model parameters**\n",
    "\n",
    "### Using Callbacks\n",
    "\n",
    "The `fit()` method has a `callbacks` argument that lets one specify a list of objects that Keras will call at the start and end of the training, start and end of each epoch or before and after processing each batch.\n",
    "\n",
    "`ModelCheckpoint` callback saves checkpoints of the model at regular intervals during training, by default at the end of each epoch.\n",
    "\n",
    "Using a validation set during training can be set `save_best_only=True`. This is a simple way to implement *early stopping*\n",
    "\n",
    "**There are much more callbacks available in the package**"
   ]
  },
  {
   "cell_type": "code",
   "execution_count": 15,
   "id": "d9b17799-2a17-4c8e-a1d1-6e92bf923b3c",
   "metadata": {},
   "outputs": [],
   "source": [
    "keras.backend.clear_session()\n",
    "np.random.seed(42)\n",
    "tf.random.set_seed(42)"
   ]
  },
  {
   "cell_type": "code",
   "execution_count": 17,
   "id": "571fb6b8-6716-4dfb-81e9-ad9c5e5ad43d",
   "metadata": {},
   "outputs": [],
   "source": [
    "model = keras.models.Sequential([\n",
    "    keras.layers.Dense(30, activation=\"relu\", input_shape=[8]),\n",
    "    keras.layers.Dense(30, activation=\"relu\"),\n",
    "    keras.layers.Dense(1)\n",
    "])"
   ]
  },
  {
   "cell_type": "code",
   "execution_count": 18,
   "id": "23e422a4-a82b-4090-bfee-0f657fdb64ef",
   "metadata": {},
   "outputs": [],
   "source": [
    "from sklearn.datasets import fetch_california_housing\n",
    "from sklearn.model_selection import train_test_split\n",
    "from sklearn.preprocessing import StandardScaler\n",
    "\n",
    "housing = fetch_california_housing()\n",
    "\n",
    "X_train_full, X_test, y_train_full, y_test = train_test_split(housing.data, housing.target, random_state=42)\n",
    "X_train, X_valid, y_train, y_valid = train_test_split(X_train_full, y_train_full, random_state=42)\n",
    "\n",
    "scaler = StandardScaler()\n",
    "X_train = scaler.fit_transform(X_train)\n",
    "X_valid = scaler.transform(X_valid)"
   ]
  },
  {
   "cell_type": "code",
   "execution_count": 19,
   "id": "045ad50d-a9cc-4e70-9ec4-476103225401",
   "metadata": {},
   "outputs": [],
   "source": [
    "model.compile(loss='mse', \n",
    "              optimizer=keras.optimizers.SGD(learning_rate=1e-3))"
   ]
  },
  {
   "cell_type": "code",
   "execution_count": 20,
   "id": "cd038283-fe87-408d-9730-0b10c9534e24",
   "metadata": {},
   "outputs": [],
   "source": [
    "checkpoint_cb = keras.callbacks.ModelCheckpoint('my_model.h5',\n",
    "                                               save_best_only=True)"
   ]
  },
  {
   "cell_type": "code",
   "execution_count": 22,
   "id": "09bd3147-1a0c-4909-926a-057bcbd973ac",
   "metadata": {},
   "outputs": [
    {
     "name": "stdout",
     "output_type": "stream",
     "text": [
      "Epoch 1/10\n",
      "363/363 [==============================] - 0s 1ms/step - loss: 0.4527 - val_loss: 0.4177\n",
      "Epoch 2/10\n",
      "363/363 [==============================] - 0s 937us/step - loss: 0.4426 - val_loss: 0.4139\n",
      "Epoch 3/10\n",
      "363/363 [==============================] - 0s 868us/step - loss: 0.4341 - val_loss: 0.4064\n",
      "Epoch 4/10\n",
      "363/363 [==============================] - 0s 976us/step - loss: 0.4268 - val_loss: 0.4054\n",
      "Epoch 5/10\n",
      "363/363 [==============================] - 0s 1ms/step - loss: 0.4209 - val_loss: 0.3944\n",
      "Epoch 6/10\n",
      "363/363 [==============================] - 0s 1ms/step - loss: 0.4154 - val_loss: 0.3992\n",
      "Epoch 7/10\n",
      "363/363 [==============================] - 0s 1ms/step - loss: 0.4108 - val_loss: 0.3923\n",
      "Epoch 8/10\n",
      "363/363 [==============================] - 0s 1ms/step - loss: 0.4069 - val_loss: 0.3835\n",
      "Epoch 9/10\n",
      "363/363 [==============================] - 0s 1ms/step - loss: 0.4032 - val_loss: 0.3893\n",
      "Epoch 10/10\n",
      "363/363 [==============================] - 0s 1ms/step - loss: 0.4000 - val_loss: 0.3949\n"
     ]
    }
   ],
   "source": [
    "history = model.fit(X_train, y_train,\n",
    "                   epochs=10,\n",
    "                   validation_data=(X_valid, y_valid),\n",
    "                   callbacks=[checkpoint_cb])"
   ]
  },
  {
   "cell_type": "code",
   "execution_count": 24,
   "id": "844fa590-22f5-4aae-9177-3682f9e2c20d",
   "metadata": {},
   "outputs": [
    {
     "name": "stdout",
     "output_type": "stream",
     "text": [
      "162/162 [==============================] - 0s 712us/step - loss: 23566.2383\n"
     ]
    }
   ],
   "source": [
    "model = keras.models.load_model(\"my_model.h5\") # rollback to best model\n",
    "mse_test = model.evaluate(X_test, y_test)"
   ]
  },
  {
   "cell_type": "code",
   "execution_count": 26,
   "id": "3fcf06dc-2333-4902-8a93-3ea105fe6883",
   "metadata": {},
   "outputs": [
    {
     "name": "stdout",
     "output_type": "stream",
     "text": [
      "Epoch 1/100\n",
      "363/363 [==============================] - 1s 1ms/step - loss: 0.3299 - val_loss: 0.3207\n",
      "Epoch 2/100\n",
      "363/363 [==============================] - 0s 1ms/step - loss: 0.3300 - val_loss: 0.3218\n",
      "Epoch 3/100\n",
      "363/363 [==============================] - 0s 924us/step - loss: 0.3295 - val_loss: 0.3172\n",
      "Epoch 4/100\n",
      "363/363 [==============================] - 0s 851us/step - loss: 0.3289 - val_loss: 0.3174\n",
      "Epoch 5/100\n",
      "363/363 [==============================] - 0s 1ms/step - loss: 0.3290 - val_loss: 0.3145\n",
      "Epoch 6/100\n",
      "363/363 [==============================] - 0s 869us/step - loss: 0.3284 - val_loss: 0.3166\n",
      "Epoch 7/100\n",
      "363/363 [==============================] - 0s 1ms/step - loss: 0.3283 - val_loss: 0.3162\n",
      "Epoch 8/100\n",
      "363/363 [==============================] - 0s 937us/step - loss: 0.3279 - val_loss: 0.3160\n",
      "Epoch 9/100\n",
      "363/363 [==============================] - 0s 1ms/step - loss: 0.3273 - val_loss: 0.3135\n",
      "Epoch 10/100\n",
      "363/363 [==============================] - 0s 1ms/step - loss: 0.3269 - val_loss: 0.3133\n",
      "Epoch 11/100\n",
      "363/363 [==============================] - 0s 1ms/step - loss: 0.3269 - val_loss: 0.3450\n",
      "Epoch 12/100\n",
      "363/363 [==============================] - 0s 1ms/step - loss: 0.3269 - val_loss: 0.3207\n",
      "Epoch 13/100\n",
      "363/363 [==============================] - 0s 1ms/step - loss: 0.3264 - val_loss: 0.3347\n",
      "Epoch 14/100\n",
      "363/363 [==============================] - 0s 913us/step - loss: 0.3258 - val_loss: 0.3133\n",
      "Epoch 15/100\n",
      "363/363 [==============================] - 0s 873us/step - loss: 0.3257 - val_loss: 0.3129\n",
      "Epoch 16/100\n",
      "363/363 [==============================] - 0s 935us/step - loss: 0.3250 - val_loss: 0.3410\n",
      "Epoch 17/100\n",
      "363/363 [==============================] - 0s 1ms/step - loss: 0.3248 - val_loss: 0.3259\n",
      "Epoch 18/100\n",
      "363/363 [==============================] - 0s 1ms/step - loss: 0.3252 - val_loss: 0.3300\n",
      "Epoch 19/100\n",
      "363/363 [==============================] - 0s 1ms/step - loss: 0.3244 - val_loss: 0.3103\n",
      "Epoch 20/100\n",
      "363/363 [==============================] - 0s 1ms/step - loss: 0.3240 - val_loss: 0.3112\n",
      "Epoch 21/100\n",
      "363/363 [==============================] - 0s 1ms/step - loss: 0.3236 - val_loss: 0.3114\n",
      "Epoch 22/100\n",
      "363/363 [==============================] - 0s 1ms/step - loss: 0.3231 - val_loss: 0.3251\n",
      "Epoch 23/100\n",
      "363/363 [==============================] - 0s 1ms/step - loss: 0.3231 - val_loss: 0.3995\n",
      "Epoch 24/100\n",
      "363/363 [==============================] - 0s 1ms/step - loss: 0.3227 - val_loss: 0.3196\n",
      "162/162 [==============================] - 0s 805us/step - loss: 20757.6953\n"
     ]
    }
   ],
   "source": [
    "# Another way to implement early stop\n",
    "model.compile(loss=\"mse\", optimizer=keras.optimizers.SGD(learning_rate=1e-3))\n",
    "early_stopping_cb = keras.callbacks.EarlyStopping(patience=5,\n",
    "                                                  restore_best_weights=True)\n",
    "history = model.fit(X_train, y_train, epochs=100,\n",
    "                    validation_data=(X_valid, y_valid),\n",
    "                    callbacks=[checkpoint_cb, early_stopping_cb])\n",
    "mse_test = model.evaluate(X_test, y_test)"
   ]
  },
  {
   "cell_type": "code",
   "execution_count": 29,
   "id": "8c1cd6ec-26a6-4544-a78d-d643970ead91",
   "metadata": {},
   "outputs": [],
   "source": [
    "# Custom callback to detect overfitting\n",
    "class PrintValTrainRatioCallback(keras.callbacks.Callback):\n",
    "    def on_epoch_end(self, epoch, logs):\n",
    "        print(f\"\\nval/train:{logs['val_loss']/logs['loss']:.2f}\")\n",
    "        # Could be `on_train_begin()`, `on_train_end()`, `on_epoch_begin()`,\n",
    "        # `on_epoch_end()`, `on_batch_begin()` and `on_batch_end()`"
   ]
  },
  {
   "cell_type": "code",
   "execution_count": 30,
   "id": "c66950bd-fa92-4150-b5dc-236ee52890b3",
   "metadata": {},
   "outputs": [
    {
     "name": "stdout",
     "output_type": "stream",
     "text": [
      "Epoch 1/3\n",
      "363/363 [==============================] - 0s 1ms/step - loss: 0.3225 - val_loss: 0.3115\n",
      "\n",
      "val/train:0.97\n",
      "Epoch 2/3\n",
      "363/363 [==============================] - 0s 1ms/step - loss: 0.3229 - val_loss: 0.3097\n",
      "\n",
      "val/train:0.96\n",
      "Epoch 3/3\n",
      "363/363 [==============================] - 0s 1ms/step - loss: 0.3223 - val_loss: 0.3117\n",
      "\n",
      "val/train:0.97\n"
     ]
    }
   ],
   "source": [
    "val_train_ratio_cb = PrintValTrainRatioCallback()\n",
    "history = model.fit(X_train, y_train, epochs=3,\n",
    "                    validation_data=(X_valid, y_valid),\n",
    "                    callbacks=[val_train_ratio_cb])"
   ]
  },
  {
   "cell_type": "markdown",
   "id": "93e86700-f907-42f8-b36e-2de6c48c05f8",
   "metadata": {},
   "source": [
    "Callbacks can also be used during evaluation and predictions."
   ]
  }
 ],
 "metadata": {
  "kernelspec": {
   "display_name": "Python 3 (ipykernel)",
   "language": "python",
   "name": "python3"
  },
  "language_info": {
   "codemirror_mode": {
    "name": "ipython",
    "version": 3
   },
   "file_extension": ".py",
   "mimetype": "text/x-python",
   "name": "python",
   "nbconvert_exporter": "python",
   "pygments_lexer": "ipython3",
   "version": "3.9.7"
  }
 },
 "nbformat": 4,
 "nbformat_minor": 5
}
