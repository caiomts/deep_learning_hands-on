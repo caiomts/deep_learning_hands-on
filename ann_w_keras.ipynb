{
 "cells": [
  {
   "cell_type": "markdown",
   "id": "cc681797-8c05-43a2-849b-ded655108520",
   "metadata": {},
   "source": [
    "# Intro to Artificial Neural Networks with Keras\n",
    "\n",
    "ANNs are the core of **Deep Learning**\n",
    "\n",
    "### Why this wave of interest in ANN's is unlike to die out like died the 1960s and 1980s\n",
    "* ANN's frequently outperform other ML techniques on very large and complex problems;\n",
    "* The increase in computer power since 1990s and cloud platforms have made training large neural networks accessible;\n",
    "* The training algorithms have been improved since 1990s;\n",
    "* ANNs seem to have entered a virtuous circle of funding and progress, as new products based on ANNs are launched more attention towards them are pulled.\n",
    "\n",
    "## Logical Computations with Neurons\n",
    "\n",
    "A simple model of a artificial neuron has on or more binary inputs and one binary output. The AN activates its output when more than a certain number of its inputs are active.\n",
    "\n",
    "*Assumption: a neuron is activated when at least two inputs are active*\n",
    "\n",
    "### Identity function\n",
    "$C = A$\n",
    "\n",
    "$A \\Rightarrow C$\n",
    "\n",
    "*if* A is activated *then* C is activated as well (since it receives two inputs signal)\n",
    "\n",
    "### AND\n",
    "$C = A \\land B$\n",
    "\n",
    "$A \\rightarrow C \\leftarrow B$\n",
    "\n",
    "Neuron C is activated *if and only if* both A *and* B are activated.\n",
    "\n",
    "### OR\n",
    "$C = A \\lor B$\n",
    "\n",
    "$A \\Rightarrow C \\Leftarrow B$\n",
    "\n",
    "Neuron C gets activated *if at least* neuron A *or* B is activated.\n",
    "\n",
    "### When a input connection can inhibit the neuron's activity\n",
    "$C = A \\land \\neg B$\n",
    "\n",
    "$A \\Rightarrow C \\leftarrow \\neg B$\n",
    "\n",
    "Neuron C is activated *only if* A is activated *and* B is deactivated.\n",
    "\n",
    "## The Perceptron\n",
    "One of the simplest ANN architectures and it is based on a slightly different artificial neuron called *threshold logic unit* (TLU) or *linear threshold unit* (LTU). The inputs and outputs are numbers (instead of binary) and each input is associated with a weight. The TLU computes a weighted sum of its inputs\n",
    "$$z = w_1x_1+w_2x_2+\\cdots+w_nx_n = \\mathbf{X}^{\\top}\\mathbf{W}$$\n",
    "then applies a step function to that sum and outputs the result\n",
    "$$h_{\\mathbf{W}}(\\mathbf{X}) = step(z)$$\n",
    "\n",
    "Most common step function used in Perceptrons\n",
    "\n",
    "$$ Heaviside (z) =\n",
    "  \\begin{cases}\n",
    "    0       & \\quad \\text{if } z < t\\\\\n",
    "    1  & \\quad \\text{if } z \\geq t\n",
    "  \\end{cases}\n",
    "$$\n",
    "\n",
    "\n",
    "$$\n",
    "sgn(z)=\n",
    "\\begin{cases}\n",
    "-1 & \\quad \\text{if} z < t\\\\\n",
    "0 & \\quad \\text{if} z = t\\\\\n",
    "+1 &\\quad \\text{if} z> t\n",
    "\\end{cases}\n",
    "$$\n",
    "\n",
    "\n",
    "$$\n",
    "\\text{t: threshold}\n",
    "$$\n",
    "\n",
    "A single TLU would be used for simple linear classification like Logistic Regression or SVM classifier. Training a TLU in this case means finding the right values for $\\mathbf{W}$\n",
    "\n",
    "### Composition\n",
    "\n",
    "A **Perceptron** is composed of a single layer of TLUs with each TLU connected to all inputs (when all neurons in a layer are connected to every single in the previous layer, the layer is called a *fully connected layer* or *dense layer*)\n",
    "\n",
    "The inputs of the Perceptron are fed to special passthrough neurons called input neurons: they output whatever input they are fed. In addition, an extra bias feature is generelly added ($x_0=1$), it's represented using a neuron called *bias neuron*, which outputs 1 all the time.\n",
    "\n",
    "$$h_{\\mathbf{W, b}}=\\phi(\\mathbf{XW}+b)$$\n",
    "Where:  \n",
    "$\\mathbf{X}$: matrix($m\\times n$) of input features.  \n",
    "$\\mathbf{W}$: matrix($n\\times j$) of connection weights one column ($j$) per artificial neuron in the layer.  \n",
    "$\\mathbf{b}$: bias terms vector ($j$) contains all the connection weights between the bias neuron and the artificial neurons. It has one bias term per artificial neuron.$\n",
    "\n",
    "The function $\\phi$ is called activation function\n",
    "\n",
    "### How is a Perceptron trained?\n",
    "Hebb's rule: The connection weight between two neurons tends to increase when they fire simultaneously\n",
    "\n",
    "A variant of the rule takes into account the error made by the network when making a prediction. **The Perceptron learning rule reinforces connections that help reduce the error**.\n",
    "\n",
    "$$W_{i, j}^{\\text{next step}}=W_{i, j}+\\eta(y_j-\\hat{y}_j)x_i$$\n",
    "\n",
    "Where:  \n",
    "$w_{i, j}$ is the connection weight between the $i^{th}$ input neuron and the $j^{th}$ output neuron. \n",
    "$x_i$ is the $i^{th}$ input value of the current training instance.  \n",
    "$\\hat{y}_j$ is the output of the $j^{th}$ output neuron for the current training instance.  \n",
    "$y_j$ is the target output of the $j^{th}$ output neuron for the current training instance.  \n",
    "$\\eta$ is the learning rate.  \n",
    "\n",
    "The decision boundary of each output neuron is linear, so Perceptron are incapable of learning complex patterns. However, if the training instances are linearly separables the algorithm would converge to a solution (*Perceptron convergence theorem*)\n"
   ]
  },
  {
   "cell_type": "code",
   "execution_count": 1,
   "id": "989d20a8-1ec2-4078-abed-eb34e5c444e3",
   "metadata": {},
   "outputs": [],
   "source": [
    "# Imports\n",
    "# To plot pretty figures\n",
    "%matplotlib inline\n",
    "import matplotlib as mpl\n",
    "import matplotlib.pyplot as plt\n",
    "mpl.rc('axes', labelsize=14)\n",
    "mpl.rc('xtick', labelsize=12)\n",
    "mpl.rc('ytick', labelsize=12)\n",
    "\n",
    "import numpy as np\n",
    "import os"
   ]
  },
  {
   "cell_type": "code",
   "execution_count": 2,
   "id": "8c59467b-388a-4fe6-9063-831d937fe5a7",
   "metadata": {},
   "outputs": [],
   "source": [
    "from sklearn.datasets import load_iris\n",
    "from sklearn.linear_model import Perceptron"
   ]
  },
  {
   "cell_type": "code",
   "execution_count": 3,
   "id": "9fb27159-74d0-4ae8-8542-0806bf2a37d8",
   "metadata": {},
   "outputs": [],
   "source": [
    "iris = load_iris()\n",
    "X = iris.data[:, (2, 3)] # petal length and petal width\n",
    "y = (iris.target == 0).astype('int')\n",
    "\n",
    "per_clf = Perceptron()\n",
    "per_clf.fit(X, y)\n",
    "\n",
    "y_pred = per_clf.predict([[2, 0.5]])"
   ]
  },
  {
   "cell_type": "markdown",
   "id": "1e850021-26d3-4f53-b716-c4c994e4a7c8",
   "metadata": {},
   "source": [
    "`Perceptron` in scikit-learn is equivalent to using an `SGDClassifier` with the fallowing hyperparameters:  \n",
    "`loss='perceptron'`  \n",
    "`learning_rate='constant'`  \n",
    "`eta0='1'`  \n",
    "`penalty=None`  \n",
    "\n",
    "*Contrary to Logistic Regression classifier, Perceptrons do not output a class probability, rather they make predictions based on hard threshold. This is one reason to **prefer** Logistic Regression over Perceptrons*\n",
    "\n",
    "**Perceptron are incabable of solving some trivial problems like *Exclusive OR (XOR)* classification problem. However some of the limitations of perceptrons can be solved by stacking multiple Perceptrons (called Multilayer Perceptron (MLP)).\n",
    "\n",
    "## The Multilayer Perceptron and Backpropagation\n",
    "An MLP is composed of one input layer, one or more layers of TLUs (hidden layers) plus a final TLUs' layer called the output layer.\n",
    "\n",
    "The layers close the input are called *lower layers* and those close to the output *upper layers*. Every layer except the output one includes a bias neuron and is fully connected to the next layer.\n",
    "\n",
    "**Note**: The signal flows only in one direction (from the inputs to outputs), this architecture is an example of *feedforward neural network (FNN)*.\n",
    "\n",
    "**The backpropagation** training algorithm in short is a Gradient Descent using an efficient technique for computing the gradients automatically. In just two pass through the (one forward and one backward), the backpropagation algorithm is able to compute the gradient of the network's error with regard to every single model parameter. In other words, it can find out how each connection weight and each bias term should be tweaked in order to reduce the error. Once it has there gradients it just performs a regular gradient descent step, and the whole process is repeated until the network converge to the solution.\n",
    "\n",
    "**Note**: Automatically computing gradients is called *automatic differentiation*, or *autodiff*. There are various techniques. the one used by backpropagation is called *reverse-mode autodiff*\n",
    "\n",
    "### The algorithm\n",
    "* handles one mini-batch at a time. It goes through the training set multiple times (**Epochs**).\n",
    "* The weights must be randomly initiated.\n",
    "* The algorithm computes the output of all neurons in each layer until the last layer (**forward pass**) and all intermediates results are preserved.\n",
    "* The algorithm computes the network's output error (using a loss function).\n",
    "* Compute how much each output connection contributed to the error (chain rule) and how much of these error contributions come from each connection in the layer below and so on until reaches the input layer. This measures the error gradient across all connection weights in the network by propagating the error backward (**backward pass**).\n",
    "* Finally the algorithm performs a Gradient Descent step to tweak all connection weights in the network using error gradient computed.\n",
    "\n",
    "**Gradiant Descent needs a well-defined non-zero derivative function to make progress at every step. Initially  this function was the sigmoid function**\n",
    "$$\\sigma(z)=\\frac{1}{1+e^{-z}}$$\n",
    "**Other choices:**\n",
    "$$tanh(z)=2\\sigma(2z)-1$$\n",
    "Unlike the sigmoid its output range from $-1$ to $1$ (instead of $0$ to $1$), and the range tends to make each layer's output centered around $0$ at the beginning of training speeding up convergence.\n",
    "$$ReLU(z)=max(0,z)$$\n",
    "Not differentiable at $z=0$ and the derivative is $0$ for $z<0$, but in practice it works well and is fast to compute (has become the default).\n",
    "\n",
    "**A large enough DNN with nonlinear activations can theoretically approximate any continuous function**\n",
    "\n",
    "## Regression MLPs\n",
    "\n",
    "When building an MLP for regression, one don't want use any activation function for the output neurons and they can output any value. To Guarantee positive outputs use *ReLU* activation function or *softplus* ($log(1+exp(z))$). \n",
    "\n",
    "**TIP:** The Huber loss is quadratic when the error is smaller than a threshold $\\delta$ (tipically 1) but linear when larger than $\\delta$. \n",
    "\n",
    "### Typical regression MLP architecture\n",
    "\n",
    "|**Hyperparameter**|**Typical value**|\n",
    "|-|-|\n",
    "|input neurons|One per feature|\n",
    "|hidden layers| Typically 1 to 5|\n",
    "|neurons per hidden layer|Typically 10 to 100|\n",
    "|output neurons|1 per prediction dimension|\n",
    "|Hidden activation|ReLU or SELU|\n",
    "|Output Activation|None, Or ReLU/softplus(if positive) or logistic/tanh (if bounded)|\n",
    "|loss function| MSE or MAE/Huber|\n",
    "\n",
    "## Classification MLPs\n",
    "* For binary classification problem: Single output neuron using the logistic activation function: the output will be a number between 0 and 1 (probability estimation of the positive class).  \n",
    "* For multilabel binary classification: One neuron per positive class.  \n",
    "* For multiclass classification: One neuron per class and a softmax activation function.\n",
    "\n",
    "Regarding the loss function, cross-entropy (log loss) is usually good. as the objective is to predict probability distributions.\n",
    "\n",
    "### Typical classification MLP architecture\n",
    "\n",
    "|**Hyperparameter**|**Binary**|**Multilabel Binary**|**Multiclass**|\n",
    "|-|-|-|-|\n",
    "|input neurons and hidden layers|Same as regression|Same as regression|Same as regression|\n",
    "|output neurons|1|1 per label|1 per class|\n",
    "|Output Activation|logistic|logistic|softmax|\n",
    "|loss function|Cross entropy|Cross entropy|Cross entropy|\n",
    "\n",
    "## Implementing MLPs with Keras\n",
    "\n",
    "Docs: [Keras](https://keras.io/)\n",
    "\n"
   ]
  },
  {
   "cell_type": "code",
   "execution_count": 12,
   "id": "1796e3f4-fe2e-401e-b529-b59913b75cba",
   "metadata": {},
   "outputs": [],
   "source": [
    "import tensorflow as tf\n",
    "from tensorflow import keras"
   ]
  },
  {
   "cell_type": "code",
   "execution_count": 13,
   "id": "8245e4d4-21c0-44fc-8d28-8e40d63b7de5",
   "metadata": {},
   "outputs": [
    {
     "data": {
      "text/plain": [
       "'2.6.0'"
      ]
     },
     "execution_count": 13,
     "metadata": {},
     "output_type": "execute_result"
    }
   ],
   "source": [
    "tf.__version__"
   ]
  },
  {
   "cell_type": "code",
   "execution_count": 14,
   "id": "fc17b605-a328-4e5d-8943-55f19b15dcb7",
   "metadata": {},
   "outputs": [
    {
     "data": {
      "text/plain": [
       "'2.6.0'"
      ]
     },
     "execution_count": 14,
     "metadata": {},
     "output_type": "execute_result"
    }
   ],
   "source": [
    "keras.__version__"
   ]
  },
  {
   "cell_type": "markdown",
   "id": "77f88a15-3202-4562-a702-644349101095",
   "metadata": {},
   "source": [
    "### Building an Image Classifier Using the sequencial API\n"
   ]
  },
  {
   "cell_type": "code",
   "execution_count": 15,
   "id": "5a43c7e1-66fc-485a-aa59-2663a0826454",
   "metadata": {},
   "outputs": [],
   "source": [
    "fashion_mnist = keras.datasets.fashion_mnist\n",
    "\n",
    "(X_train_full, y_train_full), (X_test, y_test) = fashion_mnist.load_data()"
   ]
  },
  {
   "cell_type": "code",
   "execution_count": 16,
   "id": "f280df7e-f7ab-4c5f-b1a4-b2b0b580f47e",
   "metadata": {},
   "outputs": [
    {
     "data": {
      "text/plain": [
       "(60000, 28, 28)"
      ]
     },
     "execution_count": 16,
     "metadata": {},
     "output_type": "execute_result"
    }
   ],
   "source": [
    "X_train_full.shape"
   ]
  },
  {
   "cell_type": "code",
   "execution_count": 17,
   "id": "5ca5ac58-a511-447e-8068-ced25ffbe386",
   "metadata": {},
   "outputs": [
    {
     "data": {
      "text/plain": [
       "dtype('uint8')"
      ]
     },
     "execution_count": 17,
     "metadata": {},
     "output_type": "execute_result"
    }
   ],
   "source": [
    "X_train_full.dtype"
   ]
  },
  {
   "cell_type": "code",
   "execution_count": 18,
   "id": "24def1fc-c08a-42ba-951e-2632d17a875e",
   "metadata": {},
   "outputs": [],
   "source": [
    "# Create validation set and scaling the input features\n",
    "\n",
    "X_valid, X_train = X_train_full[:5000] / 255.0, X_train_full[5000:] / 255.0\n",
    "y_valid, y_train = y_train_full[:5000], y_train_full[5000:]\n",
    "X_test = X_test / 255.0\n",
    "\n",
    "# Class names\n",
    "class_names = ['T-shirt/top', 'Trouser', 'pullover', 'dress',\n",
    "              'coat', 'sandall', 'shirt', 'sneaker', 'bag', 'ankle boot']"
   ]
  },
  {
   "cell_type": "code",
   "execution_count": 19,
   "id": "b99740ea-af05-4832-a18c-3fe5aea1d5fa",
   "metadata": {},
   "outputs": [
    {
     "data": {
      "text/plain": [
       "'coat'"
      ]
     },
     "execution_count": 19,
     "metadata": {},
     "output_type": "execute_result"
    }
   ],
   "source": [
    "class_names[y_train[0]]"
   ]
  },
  {
   "cell_type": "code",
   "execution_count": 20,
   "id": "7cd85aa2-827b-4583-8b2c-61375d63e36b",
   "metadata": {},
   "outputs": [],
   "source": [
    "# Create the model\n",
    "model = keras.models.Sequential()    # Simplest keras model for neural nets.\n",
    "                                     # Composed of a single stack of layers connected sequentially.\n",
    "model.add(keras.layers.Flatten(input_shape=[28, 28]))    # First layer. `flatten` to convert each\n",
    "                                                         # image into 1D array. Compute X.reshape(-1, 28*28)\n",
    "model.add(keras.layers.Dense(300, activation='relu'))    # `Dense` hidden layer with 300 neurons with ReLU\n",
    "                                                         # as activation function. Each one manages its own\n",
    "                                                         # weight matrix and a vector of bias terms (one per neuron)\n",
    "model.add(keras.layers.Dense(100, activation='relu'))\n",
    "model.add(keras.layers.Dense(10, activation='softmax'))    # a `Dense` output layer with 10 neurons (one per class)\n",
    "                                                           # using softmax activation because the classes are exclusive\n",
    "    \n"
   ]
  },
  {
   "cell_type": "code",
   "execution_count": 46,
   "id": "e7666f4a-a15b-4b7a-aaf0-29fa7d4fe845",
   "metadata": {},
   "outputs": [],
   "source": [
    "keras.backend.clear_session()\n",
    "np.random.seed(42)\n",
    "tf.random.set_seed(42)"
   ]
  },
  {
   "cell_type": "code",
   "execution_count": 47,
   "id": "36843ac5-2f0a-4daa-aadc-7dff458d5b53",
   "metadata": {},
   "outputs": [],
   "source": [
    "# Can be set as follow as well\n",
    "model = keras.models.Sequential([\n",
    "    keras.layers.Flatten(input_shape=[28, 28]),\n",
    "    keras.layers.Dense(300, activation='relu'),\n",
    "    keras.layers.Dense(100, activation='relu'),\n",
    "    keras.layers.Dense(10, activation='softmax')\n",
    "])"
   ]
  },
  {
   "cell_type": "code",
   "execution_count": 48,
   "id": "9913db6e-a051-4f80-b3ce-8ff9c480a7e7",
   "metadata": {},
   "outputs": [
    {
     "name": "stdout",
     "output_type": "stream",
     "text": [
      "Model: \"sequential\"\n",
      "_________________________________________________________________\n",
      "Layer (type)                 Output Shape              Param #   \n",
      "=================================================================\n",
      "flatten (Flatten)            (None, 784)               0         \n",
      "_________________________________________________________________\n",
      "dense (Dense)                (None, 300)               235500    \n",
      "_________________________________________________________________\n",
      "dense_1 (Dense)              (None, 100)               30100     \n",
      "_________________________________________________________________\n",
      "dense_2 (Dense)              (None, 10)                1010      \n",
      "=================================================================\n",
      "Total params: 266,610\n",
      "Trainable params: 266,610\n",
      "Non-trainable params: 0\n",
      "_________________________________________________________________\n"
     ]
    }
   ],
   "source": [
    "model.summary()"
   ]
  },
  {
   "cell_type": "code",
   "execution_count": 49,
   "id": "28af9f2e-f8ba-45e0-839b-c75c5f49bd0e",
   "metadata": {},
   "outputs": [
    {
     "data": {
      "image/png": "[encoded data removed]",
      "text/plain": [
       "<IPython.core.display.Image object>"
      ]
     },
     "execution_count": 49,
     "metadata": {},
     "output_type": "execute_result"
    }
   ],
   "source": [
    "keras.utils.plot_model(model, show_shapes=True)"
   ]
  },
  {
   "cell_type": "code",
   "execution_count": 50,
   "id": "7edde91b-dd72-4463-bead-c133413475ff",
   "metadata": {},
   "outputs": [
    {
     "data": {
      "text/plain": [
       "[<keras.layers.core.Flatten at 0x7f4e99165d90>,\n",
       " <keras.layers.core.Dense at 0x7f4e991659d0>,\n",
       " <keras.layers.core.Dense at 0x7f4eb23c00a0>,\n",
       " <keras.layers.core.Dense at 0x7f4eb23b6cd0>]"
      ]
     },
     "execution_count": 50,
     "metadata": {},
     "output_type": "execute_result"
    }
   ],
   "source": [
    "model.layers"
   ]
  },
  {
   "cell_type": "code",
   "execution_count": 51,
   "id": "6cc21735-f2fd-4a72-a6cf-227571144b0c",
   "metadata": {},
   "outputs": [
    {
     "data": {
      "text/plain": [
       "'dense'"
      ]
     },
     "execution_count": 51,
     "metadata": {},
     "output_type": "execute_result"
    }
   ],
   "source": [
    "model.layers[1].name"
   ]
  },
  {
   "cell_type": "code",
   "execution_count": 53,
   "id": "71dd66f7-79f1-462c-9dab-f4add3aeccd0",
   "metadata": {},
   "outputs": [
    {
     "data": {
      "text/plain": [
       "<keras.layers.core.Dense at 0x7f4e991659d0>"
      ]
     },
     "execution_count": 53,
     "metadata": {},
     "output_type": "execute_result"
    }
   ],
   "source": [
    "model.get_layer('dense')"
   ]
  },
  {
   "cell_type": "markdown",
   "id": "891ecda1-9b93-40bb-b498-e86a3830ef2f",
   "metadata": {},
   "source": [
    "# Activation Functions\n",
    "(ageron notebook)\n"
   ]
  },
  {
   "cell_type": "code",
   "execution_count": 32,
   "id": "8686dad1-09cf-412a-9cf2-63afa03e449f",
   "metadata": {},
   "outputs": [],
   "source": [
    "def sigmoid(z):\n",
    "    return 1 / (1 + np.exp(-z))\n",
    "\n",
    "def relu(z):\n",
    "    return np.maximum(0, z)\n",
    "\n",
    "def derivative(f, z, eps=0.000001):\n",
    "    return (f(z + eps) - f(z - eps))/(2 * eps)"
   ]
  },
  {
   "cell_type": "code",
   "execution_count": 35,
   "id": "167d833d-ad2d-4e0d-ab45-5b6c61084d26",
   "metadata": {},
   "outputs": [
    {
     "data": {
      "image/png": "[encoded data removed]",
      "text/plain": [
       "<Figure size 792x288 with 2 Axes>"
      ]
     },
     "metadata": {
      "needs_background": "light"
     },
     "output_type": "display_data"
    }
   ],
   "source": [
    "import numpy as np\n",
    "import matplotlib.pyplot as plt\n",
    "\n",
    "z = np.linspace(-5, 5, 200)\n",
    "\n",
    "plt.figure(figsize=(11,4))\n",
    "\n",
    "plt.subplot(121)\n",
    "plt.plot(z, np.sign(z), \"r-\", linewidth=1, label=\"Step\")\n",
    "plt.plot(z, sigmoid(z), \"g--\", linewidth=2, label=\"Sigmoid\")\n",
    "plt.plot(z, np.tanh(z), \"b-\", linewidth=2, label=\"Tanh\")\n",
    "plt.plot(z, relu(z), \"m-.\", linewidth=2, label=\"ReLU\")\n",
    "plt.grid(True)\n",
    "plt.legend(loc=\"center right\", fontsize=14)\n",
    "plt.title(\"Activation functions\", fontsize=14)\n",
    "plt.axis([-5, 5, -1.2, 1.2])\n",
    "\n",
    "plt.subplot(122)\n",
    "plt.plot(z, derivative(np.sign, z), \"r-\", linewidth=1, label=\"Step\")\n",
    "plt.plot(0, 0, \"ro\", markersize=5)\n",
    "plt.plot(0, 0, \"rx\", markersize=10)\n",
    "plt.plot(z, derivative(sigmoid, z), \"g--\", linewidth=2, label=\"Sigmoid\")\n",
    "plt.plot(z, derivative(np.tanh, z), \"b-\", linewidth=2, label=\"Tanh\")\n",
    "plt.plot(z, derivative(relu, z), \"m-.\", linewidth=2, label=\"ReLU\")\n",
    "plt.grid(True)\n",
    "#plt.legend(loc=\"center right\", fontsize=14)\n",
    "plt.title(\"Derivatives\", fontsize=14)\n",
    "plt.axis([-5, 5, -0.2, 1.2])\n",
    "\n",
    "\n",
    "plt.show()\n",
    "\n"
   ]
  },
  {
   "cell_type": "code",
   "execution_count": 54,
   "id": "8ffbe471-45ea-44ae-97ee-d509628ccbd7",
   "metadata": {},
   "outputs": [
    {
     "data": {
      "text/plain": [
       "(784, 300)"
      ]
     },
     "execution_count": 54,
     "metadata": {},
     "output_type": "execute_result"
    }
   ],
   "source": [
    "# Paramets from a layer\n",
    "# Weights\n",
    "model.layers[1].get_weights()[0].shape"
   ]
  },
  {
   "cell_type": "code",
   "execution_count": 55,
   "id": "7f037f3c-ff63-41bd-9a3b-c2675238baad",
   "metadata": {},
   "outputs": [
    {
     "data": {
      "text/plain": [
       "(300,)"
      ]
     },
     "execution_count": 55,
     "metadata": {},
     "output_type": "execute_result"
    }
   ],
   "source": [
    "# Biases\n",
    "model.layers[1].get_weights()[1].shape"
   ]
  },
  {
   "cell_type": "markdown",
   "id": "f9dd9ca0-93bb-4578-bfcc-aba65ca0c254",
   "metadata": {},
   "source": [
    "### Compiling the model\n",
    "Call the `compile()` to specify the loss function and the optimizer to use."
   ]
  },
  {
   "cell_type": "code",
   "execution_count": 56,
   "id": "dbe10605-ae4d-437a-a38e-354ee36a1e53",
   "metadata": {},
   "outputs": [],
   "source": [
    "model.compile(loss='sparse_categorical_crossentropy',\n",
    "             optimizer=keras.optimizers.SGD(learning_rate=0.01),\n",
    "             metrics=['accuracy'])"
   ]
  },
  {
   "cell_type": "markdown",
   "id": "4638de8b-ff91-40a4-b76a-b4e71bdb5745",
   "metadata": {},
   "source": [
    "**TIP** to convert sparse labels (class indices) to one-hot vector labels, use `keras.utils.to_categorical()` function. other way, `np.argmax()` function with `axis=1`"
   ]
  },
  {
   "cell_type": "markdown",
   "id": "1abb9bd1-4237-4252-9189-c576cdc491ca",
   "metadata": {},
   "source": [
    "### Training and evaluating the model"
   ]
  },
  {
   "cell_type": "code",
   "execution_count": 58,
   "id": "3678ba1c-32bd-418e-96e0-73df55106237",
   "metadata": {},
   "outputs": [
    {
     "name": "stdout",
     "output_type": "stream",
     "text": [
      "Epoch 1/30\n",
      "1719/1719 [==============================] - 4s 2ms/step - loss: 0.2207 - accuracy: 0.9198 - val_loss: 0.2888 - val_accuracy: 0.8954\n",
      "Epoch 2/30\n",
      "1719/1719 [==============================] - 4s 2ms/step - loss: 0.2175 - accuracy: 0.9223 - val_loss: 0.2902 - val_accuracy: 0.8972\n",
      "Epoch 3/30\n",
      "1719/1719 [==============================] - 4s 2ms/step - loss: 0.2140 - accuracy: 0.9223 - val_loss: 0.3696 - val_accuracy: 0.8658\n",
      "Epoch 4/30\n",
      "1719/1719 [==============================] - 4s 2ms/step - loss: 0.2104 - accuracy: 0.9254 - val_loss: 0.2920 - val_accuracy: 0.8968\n",
      "Epoch 5/30\n",
      "1719/1719 [==============================] - 4s 2ms/step - loss: 0.2086 - accuracy: 0.9244 - val_loss: 0.2806 - val_accuracy: 0.8986\n",
      "Epoch 6/30\n",
      "1719/1719 [==============================] - 4s 2ms/step - loss: 0.2033 - accuracy: 0.9271 - val_loss: 0.2970 - val_accuracy: 0.8936\n",
      "Epoch 7/30\n",
      "1719/1719 [==============================] - 4s 2ms/step - loss: 0.2004 - accuracy: 0.9294 - val_loss: 0.2925 - val_accuracy: 0.9006\n",
      "Epoch 8/30\n",
      "1719/1719 [==============================] - 4s 2ms/step - loss: 0.1976 - accuracy: 0.9297 - val_loss: 0.3032 - val_accuracy: 0.8894\n",
      "Epoch 9/30\n",
      "1719/1719 [==============================] - 4s 2ms/step - loss: 0.1940 - accuracy: 0.9309 - val_loss: 0.2919 - val_accuracy: 0.8930\n",
      "Epoch 10/30\n",
      "1719/1719 [==============================] - 4s 2ms/step - loss: 0.1907 - accuracy: 0.9321 - val_loss: 0.2828 - val_accuracy: 0.8998\n",
      "Epoch 11/30\n",
      "1719/1719 [==============================] - 4s 2ms/step - loss: 0.1888 - accuracy: 0.9321 - val_loss: 0.2925 - val_accuracy: 0.8984\n",
      "Epoch 12/30\n",
      "1719/1719 [==============================] - 4s 2ms/step - loss: 0.1848 - accuracy: 0.9339 - val_loss: 0.2959 - val_accuracy: 0.8988\n",
      "Epoch 13/30\n",
      "1719/1719 [==============================] - 4s 2ms/step - loss: 0.1818 - accuracy: 0.9362 - val_loss: 0.2953 - val_accuracy: 0.8948\n",
      "Epoch 14/30\n",
      "1719/1719 [==============================] - 4s 2ms/step - loss: 0.1797 - accuracy: 0.9361 - val_loss: 0.3081 - val_accuracy: 0.8910\n",
      "Epoch 15/30\n",
      "1719/1719 [==============================] - 4s 2ms/step - loss: 0.1765 - accuracy: 0.9365 - val_loss: 0.2949 - val_accuracy: 0.8966\n",
      "Epoch 16/30\n",
      "1719/1719 [==============================] - 4s 2ms/step - loss: 0.1741 - accuracy: 0.9386 - val_loss: 0.2837 - val_accuracy: 0.8980\n",
      "Epoch 17/30\n",
      "1719/1719 [==============================] - 4s 2ms/step - loss: 0.1710 - accuracy: 0.9394 - val_loss: 0.3273 - val_accuracy: 0.8924\n",
      "Epoch 18/30\n",
      "1719/1719 [==============================] - 4s 2ms/step - loss: 0.1687 - accuracy: 0.9400 - val_loss: 0.2829 - val_accuracy: 0.9014\n",
      "Epoch 19/30\n",
      "1719/1719 [==============================] - 4s 2ms/step - loss: 0.1658 - accuracy: 0.9414 - val_loss: 0.2992 - val_accuracy: 0.8982\n",
      "Epoch 20/30\n",
      "1719/1719 [==============================] - 5s 3ms/step - loss: 0.1629 - accuracy: 0.9419 - val_loss: 0.2991 - val_accuracy: 0.8964\n",
      "Epoch 21/30\n",
      "1719/1719 [==============================] - 4s 2ms/step - loss: 0.1600 - accuracy: 0.9429 - val_loss: 0.2942 - val_accuracy: 0.8992\n",
      "Epoch 22/30\n",
      "1719/1719 [==============================] - 4s 2ms/step - loss: 0.1581 - accuracy: 0.9429 - val_loss: 0.2899 - val_accuracy: 0.9002\n",
      "Epoch 23/30\n",
      "1719/1719 [==============================] - 4s 2ms/step - loss: 0.1555 - accuracy: 0.9443 - val_loss: 0.2904 - val_accuracy: 0.9020\n",
      "Epoch 24/30\n",
      "1719/1719 [==============================] - 4s 2ms/step - loss: 0.1528 - accuracy: 0.9455 - val_loss: 0.3051 - val_accuracy: 0.8960\n",
      "Epoch 25/30\n",
      "1719/1719 [==============================] - 4s 2ms/step - loss: 0.1501 - accuracy: 0.9469 - val_loss: 0.2917 - val_accuracy: 0.8994\n",
      "Epoch 26/30\n",
      "1719/1719 [==============================] - 4s 2ms/step - loss: 0.1483 - accuracy: 0.9469 - val_loss: 0.3011 - val_accuracy: 0.9008\n",
      "Epoch 27/30\n",
      "1719/1719 [==============================] - 4s 2ms/step - loss: 0.1455 - accuracy: 0.9484 - val_loss: 0.3029 - val_accuracy: 0.8982\n",
      "Epoch 28/30\n",
      "1719/1719 [==============================] - 4s 2ms/step - loss: 0.1436 - accuracy: 0.9496 - val_loss: 0.2926 - val_accuracy: 0.9008\n",
      "Epoch 29/30\n",
      "1719/1719 [==============================] - 4s 2ms/step - loss: 0.1409 - accuracy: 0.9502 - val_loss: 0.3044 - val_accuracy: 0.8986\n",
      "Epoch 30/30\n",
      "1719/1719 [==============================] - 4s 2ms/step - loss: 0.1388 - accuracy: 0.9517 - val_loss: 0.3178 - val_accuracy: 0.8966\n"
     ]
    }
   ],
   "source": [
    "history = model.fit(X_train, y_train, epochs=30,\n",
    "                   validation_data=(X_valid, y_valid))"
   ]
  },
  {
   "cell_type": "markdown",
   "id": "b0b1b57b-ee70-403f-bc2d-5bc833bee5dc",
   "metadata": {},
   "source": [
    "**TIP** instead of using the argument `validation_data` one can use `validation_split` to the ratio of the training set.\n",
    "\n",
    "`class_weight` argument handles unbalanced classes.\n",
    "\n",
    "`sample_weight` argument is usefull when some instances are labeled by experts and others by other source. This can also be used inside `validation_data` as a third item in a tuple.\n",
    "\n",
    "`fit()`returns a `History` object with the following attributes. \n",
    "`.params`, `.epoch`, `.history`"
   ]
  },
  {
   "cell_type": "code",
   "execution_count": 59,
   "id": "562ad28e-ce51-475b-b9ac-e4a3468e4578",
   "metadata": {},
   "outputs": [
    {
     "data": {
      "text/plain": [
       "{'verbose': 1, 'epochs': 30, 'steps': 1719}"
      ]
     },
     "execution_count": 59,
     "metadata": {},
     "output_type": "execute_result"
    }
   ],
   "source": [
    "history.params"
   ]
  },
  {
   "cell_type": "code",
   "execution_count": 63,
   "id": "632e6632-4407-4ba0-9bd4-8954130985e4",
   "metadata": {},
   "outputs": [
    {
     "data": {
      "text/plain": [
       "[0,\n",
       " 1,\n",
       " 2,\n",
       " 3,\n",
       " 4,\n",
       " 5,\n",
       " 6,\n",
       " 7,\n",
       " 8,\n",
       " 9,\n",
       " 10,\n",
       " 11,\n",
       " 12,\n",
       " 13,\n",
       " 14,\n",
       " 15,\n",
       " 16,\n",
       " 17,\n",
       " 18,\n",
       " 19,\n",
       " 20,\n",
       " 21,\n",
       " 22,\n",
       " 23,\n",
       " 24,\n",
       " 25,\n",
       " 26,\n",
       " 27,\n",
       " 28,\n",
       " 29]"
      ]
     },
     "execution_count": 63,
     "metadata": {},
     "output_type": "execute_result"
    }
   ],
   "source": [
    "history.epoch"
   ]
  },
  {
   "cell_type": "code",
   "execution_count": 67,
   "id": "adae464c-48fe-4b7d-8e85-7be302978fda",
   "metadata": {},
   "outputs": [
    {
     "data": {
      "text/plain": [
       "<AxesSubplot:>"
      ]
     },
     "execution_count": 67,
     "metadata": {},
     "output_type": "execute_result"
    },
    {
     "data": {
      "image/png": "[encoded data removed]",
      "text/plain": [
       "<Figure size 432x288 with 1 Axes>"
      ]
     },
     "metadata": {
      "needs_background": "light"
     },
     "output_type": "display_data"
    }
   ],
   "source": [
    "import pandas as pd\n",
    "pd.DataFrame(data=history.history).plot()\n"
   ]
  },
  {
   "cell_type": "code",
   "execution_count": null,
   "id": "5a3cbca4-d7e8-458c-a8fe-b648fdddd385",
   "metadata": {},
   "outputs": [],
   "source": []
  }
 ],
 "metadata": {
  "kernelspec": {
   "display_name": "Python 3 (ipykernel)",
   "language": "python",
   "name": "python3"
  },
  "language_info": {
   "codemirror_mode": {
    "name": "ipython",
    "version": 3
   },
   "file_extension": ".py",
   "mimetype": "text/x-python",
   "name": "python",
   "nbconvert_exporter": "python",
   "pygments_lexer": "ipython3",
   "version": "3.9.7"
  }
 },
 "nbformat": 4,
 "nbformat_minor": 5
}
